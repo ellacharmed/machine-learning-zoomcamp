{
 "cells": [
  {
   "cell_type": "markdown",
   "metadata": {},
   "source": [
    "# Homework for week06\n",
    "\n",
    "> In this homework, we will use the California Housing Prices from [Kaggle](https://www.kaggle.com/datasets/camnugent/california-housing-prices).\n",
    "\n",
    "> The goal of this homework is to create a regression model for predicting housing prices (column `'median_house_value'`).\n",
    "\n",
    "## Import Packages"
   ]
  },
  {
   "cell_type": "code",
   "execution_count": 1,
   "metadata": {},
   "outputs": [],
   "source": [
    "%matplotlib inline\n",
    "\n",
    "from tqdm.auto import tqdm\n",
    "import numpy as np\n",
    "import pandas as pd\n",
    "import matplotlib.pyplot as plt\n",
    "import seaborn as sns\n",
    "\n",
    "from sklearn.model_selection import train_test_split\n",
    "from sklearn.feature_extraction import DictVectorizer\n",
    "\n",
    "from sklearn.tree import DecisionTreeRegressor\n",
    "from sklearn.ensemble import RandomForestRegressor\n",
    "import xgboost as xgb\n",
    "\n",
    "from sklearn.metrics import mean_squared_error\n",
    "from sklearn.tree import export_text"
   ]
  },
  {
   "cell_type": "markdown",
   "metadata": {},
   "source": [
    "## Preparing the dataset \n",
    "\n",
    "For this homework, we only want to use a subset of data. This is the same subset we used in homework #2.\n",
    "But in contrast to homework #2 we are going to use all columns of the dataset.\n",
    "\n",
    "First, keep only the records where `ocean_proximity` is either `'<1H OCEAN'` or `'INLAND'`\n",
    "\n",
    "Preparation:\n",
    "\n",
    "* Fill missing values with zeros.\n",
    "* Apply the log tranform to `median_house_value`.\n",
    "* Do train/validation/test split with 60%/20%/20% distribution. \n",
    "* Use the `train_test_split` function and set the `random_state` parameter to 1.\n",
    "* Use `DictVectorizer(sparse=True)` to turn the dataframes into matrices."
   ]
  },
  {
   "cell_type": "code",
   "execution_count": 2,
   "metadata": {},
   "outputs": [
    {
     "name": "stdout",
     "output_type": "stream",
     "text": [
      "data.shape =(20640, 10)\n"
     ]
    }
   ],
   "source": [
    "data = pd.read_csv('../data/housing.csv')\n",
    "print(f'{data.shape =}')"
   ]
  },
  {
   "cell_type": "code",
   "execution_count": 3,
   "metadata": {},
   "outputs": [
    {
     "data": {
      "text/plain": [
       "longitude               0\n",
       "latitude                0\n",
       "housing_median_age      0\n",
       "total_rooms             0\n",
       "total_bedrooms        207\n",
       "population              0\n",
       "households              0\n",
       "median_income           0\n",
       "median_house_value      0\n",
       "ocean_proximity         0\n",
       "dtype: int64"
      ]
     },
     "execution_count": 3,
     "metadata": {},
     "output_type": "execute_result"
    }
   ],
   "source": [
    "data.isnull().sum()"
   ]
  },
  {
   "cell_type": "code",
   "execution_count": 4,
   "metadata": {},
   "outputs": [
    {
     "data": {
      "image/png": "[encoded data removed]",
      "text/plain": [
       "<Figure size 640x480 with 1 Axes>"
      ]
     },
     "metadata": {},
     "output_type": "display_data"
    }
   ],
   "source": [
    "sns.histplot(data.median_house_value)\n",
    "plt.title('Distribution of target BEFORE fillna() and np.log1p() treatment')\n",
    "plt.show()"
   ]
  },
  {
   "cell_type": "code",
   "execution_count": 5,
   "metadata": {},
   "outputs": [
    {
     "name": "stdout",
     "output_type": "stream",
     "text": [
      "ocean_proximity\n",
      "<1H OCEAN    9136\n",
      "INLAND       6551\n",
      "Name: count, dtype: int64\n",
      "\n",
      "data.shape = (15687, 10)\n",
      "\n",
      "data.columns = Index(['longitude', 'latitude', 'housing_median_age', 'total_rooms',\n",
      "       'total_bedrooms', 'population', 'households', 'median_income',\n",
      "       'median_house_value', 'ocean_proximity'],\n",
      "      dtype='object')\n"
     ]
    }
   ],
   "source": [
    "# make a copy to revert to\n",
    "data_copy = data.copy()\n",
    "# keep only the records where `ocean_proximity` is either `'<1H OCEAN'` or `'INLAND'`\n",
    "data = data.query(\"ocean_proximity == '<1H OCEAN' or ocean_proximity == 'INLAND'\")\n",
    "# Fill missing values with zeros\n",
    "data = data.fillna(0)\n",
    "# Apply the log tranform to `median_house_value`.\n",
    "data['median_house_value'] = np.log1p(data.median_house_value.values)\n",
    "print(data['ocean_proximity'].value_counts())\n",
    "print()\n",
    "print(f'{data.shape = }')\n",
    "print()\n",
    "print(f'{data.columns = }')"
   ]
  },
  {
   "cell_type": "code",
   "execution_count": 6,
   "metadata": {},
   "outputs": [
    {
     "data": {
      "text/plain": [
       "longitude             0\n",
       "latitude              0\n",
       "housing_median_age    0\n",
       "total_rooms           0\n",
       "total_bedrooms        0\n",
       "population            0\n",
       "households            0\n",
       "median_income         0\n",
       "median_house_value    0\n",
       "ocean_proximity       0\n",
       "dtype: int64"
      ]
     },
     "execution_count": 6,
     "metadata": {},
     "output_type": "execute_result"
    }
   ],
   "source": [
    "# confirm no more null values\n",
    "data.isnull().sum()"
   ]
  },
  {
   "cell_type": "code",
   "execution_count": 7,
   "metadata": {},
   "outputs": [],
   "source": [
    "df_full_train, df_test = train_test_split(data, test_size=0.2, random_state=1)\n",
    "df_train, df_val = train_test_split(df_full_train, test_size=0.25, random_state=1)"
   ]
  },
  {
   "cell_type": "code",
   "execution_count": 8,
   "metadata": {},
   "outputs": [
    {
     "data": {
      "text/html": [
       "<div>\n",
       "<style scoped>\n",
       "    .dataframe tbody tr th:only-of-type {\n",
       "        vertical-align: middle;\n",
       "    }\n",
       "\n",
       "    .dataframe tbody tr th {\n",
       "        vertical-align: top;\n",
       "    }\n",
       "\n",
       "    .dataframe thead th {\n",
       "        text-align: right;\n",
       "    }\n",
       "</style>\n",
       "<table border=\"1\" class=\"dataframe\">\n",
       "  <thead>\n",
       "    <tr style=\"text-align: right;\">\n",
       "      <th></th>\n",
       "      <th>13673</th>\n",
       "      <th>6611</th>\n",
       "      <th>2649</th>\n",
       "      <th>6789</th>\n",
       "      <th>3826</th>\n",
       "    </tr>\n",
       "  </thead>\n",
       "  <tbody>\n",
       "    <tr>\n",
       "      <th>longitude</th>\n",
       "      <td>-117.25</td>\n",
       "      <td>-118.11</td>\n",
       "      <td>-124.1</td>\n",
       "      <td>-118.16</td>\n",
       "      <td>-118.45</td>\n",
       "    </tr>\n",
       "    <tr>\n",
       "      <th>latitude</th>\n",
       "      <td>34.04</td>\n",
       "      <td>34.18</td>\n",
       "      <td>40.5</td>\n",
       "      <td>34.09</td>\n",
       "      <td>34.2</td>\n",
       "    </tr>\n",
       "    <tr>\n",
       "      <th>housing_median_age</th>\n",
       "      <td>18.0</td>\n",
       "      <td>52.0</td>\n",
       "      <td>42.0</td>\n",
       "      <td>52.0</td>\n",
       "      <td>18.0</td>\n",
       "    </tr>\n",
       "    <tr>\n",
       "      <th>total_rooms</th>\n",
       "      <td>5761.0</td>\n",
       "      <td>3571.0</td>\n",
       "      <td>2380.0</td>\n",
       "      <td>1722.0</td>\n",
       "      <td>2729.0</td>\n",
       "    </tr>\n",
       "    <tr>\n",
       "      <th>total_bedrooms</th>\n",
       "      <td>1063.0</td>\n",
       "      <td>510.0</td>\n",
       "      <td>553.0</td>\n",
       "      <td>448.0</td>\n",
       "      <td>800.0</td>\n",
       "    </tr>\n",
       "    <tr>\n",
       "      <th>population</th>\n",
       "      <td>2763.0</td>\n",
       "      <td>1434.0</td>\n",
       "      <td>1300.0</td>\n",
       "      <td>1122.0</td>\n",
       "      <td>2099.0</td>\n",
       "    </tr>\n",
       "    <tr>\n",
       "      <th>households</th>\n",
       "      <td>1058.0</td>\n",
       "      <td>490.0</td>\n",
       "      <td>504.0</td>\n",
       "      <td>425.0</td>\n",
       "      <td>742.0</td>\n",
       "    </tr>\n",
       "    <tr>\n",
       "      <th>median_income</th>\n",
       "      <td>4.4472</td>\n",
       "      <td>5.9009</td>\n",
       "      <td>1.7574</td>\n",
       "      <td>3.1204</td>\n",
       "      <td>2.5842</td>\n",
       "    </tr>\n",
       "    <tr>\n",
       "      <th>median_house_value</th>\n",
       "      <td>11.989787</td>\n",
       "      <td>12.837347</td>\n",
       "      <td>10.959558</td>\n",
       "      <td>12.319406</td>\n",
       "      <td>12.349311</td>\n",
       "    </tr>\n",
       "    <tr>\n",
       "      <th>ocean_proximity</th>\n",
       "      <td>INLAND</td>\n",
       "      <td>INLAND</td>\n",
       "      <td>&lt;1H OCEAN</td>\n",
       "      <td>&lt;1H OCEAN</td>\n",
       "      <td>&lt;1H OCEAN</td>\n",
       "    </tr>\n",
       "  </tbody>\n",
       "</table>\n",
       "</div>"
      ],
      "text/plain": [
       "                        13673      6611       2649       6789       3826 \n",
       "longitude             -117.25    -118.11     -124.1    -118.16    -118.45\n",
       "latitude                34.04      34.18       40.5      34.09       34.2\n",
       "housing_median_age       18.0       52.0       42.0       52.0       18.0\n",
       "total_rooms            5761.0     3571.0     2380.0     1722.0     2729.0\n",
       "total_bedrooms         1063.0      510.0      553.0      448.0      800.0\n",
       "population             2763.0     1434.0     1300.0     1122.0     2099.0\n",
       "households             1058.0      490.0      504.0      425.0      742.0\n",
       "median_income          4.4472     5.9009     1.7574     3.1204     2.5842\n",
       "median_house_value  11.989787  12.837347  10.959558  12.319406  12.349311\n",
       "ocean_proximity        INLAND     INLAND  <1H OCEAN  <1H OCEAN  <1H OCEAN"
      ]
     },
     "execution_count": 8,
     "metadata": {},
     "output_type": "execute_result"
    }
   ],
   "source": [
    "df_full_train.head().T"
   ]
  },
  {
   "cell_type": "code",
   "execution_count": 9,
   "metadata": {},
   "outputs": [
    {
     "data": {
      "text/html": [
       "<div>\n",
       "<style scoped>\n",
       "    .dataframe tbody tr th:only-of-type {\n",
       "        vertical-align: middle;\n",
       "    }\n",
       "\n",
       "    .dataframe tbody tr th {\n",
       "        vertical-align: top;\n",
       "    }\n",
       "\n",
       "    .dataframe thead th {\n",
       "        text-align: right;\n",
       "    }\n",
       "</style>\n",
       "<table border=\"1\" class=\"dataframe\">\n",
       "  <thead>\n",
       "    <tr style=\"text-align: right;\">\n",
       "      <th></th>\n",
       "      <th>count</th>\n",
       "      <th>mean</th>\n",
       "      <th>std</th>\n",
       "      <th>min</th>\n",
       "      <th>25%</th>\n",
       "      <th>50%</th>\n",
       "      <th>75%</th>\n",
       "      <th>max</th>\n",
       "    </tr>\n",
       "  </thead>\n",
       "  <tbody>\n",
       "    <tr>\n",
       "      <th>longitude</th>\n",
       "      <td>12549.0</td>\n",
       "      <td>-119.0</td>\n",
       "      <td>2.0</td>\n",
       "      <td>-124.0</td>\n",
       "      <td>-121.0</td>\n",
       "      <td>-118.0</td>\n",
       "      <td>-118.0</td>\n",
       "      <td>-114.0</td>\n",
       "    </tr>\n",
       "    <tr>\n",
       "      <th>latitude</th>\n",
       "      <td>12549.0</td>\n",
       "      <td>35.0</td>\n",
       "      <td>2.0</td>\n",
       "      <td>33.0</td>\n",
       "      <td>34.0</td>\n",
       "      <td>34.0</td>\n",
       "      <td>37.0</td>\n",
       "      <td>42.0</td>\n",
       "    </tr>\n",
       "    <tr>\n",
       "      <th>housing_median_age</th>\n",
       "      <td>12549.0</td>\n",
       "      <td>27.0</td>\n",
       "      <td>12.0</td>\n",
       "      <td>1.0</td>\n",
       "      <td>17.0</td>\n",
       "      <td>27.0</td>\n",
       "      <td>36.0</td>\n",
       "      <td>52.0</td>\n",
       "    </tr>\n",
       "    <tr>\n",
       "      <th>total_rooms</th>\n",
       "      <td>12549.0</td>\n",
       "      <td>2650.0</td>\n",
       "      <td>2207.0</td>\n",
       "      <td>6.0</td>\n",
       "      <td>1440.0</td>\n",
       "      <td>2110.0</td>\n",
       "      <td>3167.0</td>\n",
       "      <td>39320.0</td>\n",
       "    </tr>\n",
       "    <tr>\n",
       "      <th>total_bedrooms</th>\n",
       "      <td>12549.0</td>\n",
       "      <td>533.0</td>\n",
       "      <td>429.0</td>\n",
       "      <td>0.0</td>\n",
       "      <td>290.0</td>\n",
       "      <td>428.0</td>\n",
       "      <td>641.0</td>\n",
       "      <td>6445.0</td>\n",
       "    </tr>\n",
       "    <tr>\n",
       "      <th>population</th>\n",
       "      <td>12549.0</td>\n",
       "      <td>1461.0</td>\n",
       "      <td>1173.0</td>\n",
       "      <td>3.0</td>\n",
       "      <td>800.0</td>\n",
       "      <td>1193.0</td>\n",
       "      <td>1773.0</td>\n",
       "      <td>35682.0</td>\n",
       "    </tr>\n",
       "    <tr>\n",
       "      <th>households</th>\n",
       "      <td>12549.0</td>\n",
       "      <td>499.0</td>\n",
       "      <td>385.0</td>\n",
       "      <td>2.0</td>\n",
       "      <td>277.0</td>\n",
       "      <td>405.0</td>\n",
       "      <td>602.0</td>\n",
       "      <td>6082.0</td>\n",
       "    </tr>\n",
       "    <tr>\n",
       "      <th>median_income</th>\n",
       "      <td>12549.0</td>\n",
       "      <td>4.0</td>\n",
       "      <td>2.0</td>\n",
       "      <td>0.0</td>\n",
       "      <td>3.0</td>\n",
       "      <td>3.0</td>\n",
       "      <td>5.0</td>\n",
       "      <td>15.0</td>\n",
       "    </tr>\n",
       "    <tr>\n",
       "      <th>median_house_value</th>\n",
       "      <td>12549.0</td>\n",
       "      <td>12.0</td>\n",
       "      <td>1.0</td>\n",
       "      <td>10.0</td>\n",
       "      <td>12.0</td>\n",
       "      <td>12.0</td>\n",
       "      <td>12.0</td>\n",
       "      <td>13.0</td>\n",
       "    </tr>\n",
       "  </tbody>\n",
       "</table>\n",
       "</div>"
      ],
      "text/plain": [
       "                      count    mean     std    min     25%     50%     75%  \\\n",
       "longitude           12549.0  -119.0     2.0 -124.0  -121.0  -118.0  -118.0   \n",
       "latitude            12549.0    35.0     2.0   33.0    34.0    34.0    37.0   \n",
       "housing_median_age  12549.0    27.0    12.0    1.0    17.0    27.0    36.0   \n",
       "total_rooms         12549.0  2650.0  2207.0    6.0  1440.0  2110.0  3167.0   \n",
       "total_bedrooms      12549.0   533.0   429.0    0.0   290.0   428.0   641.0   \n",
       "population          12549.0  1461.0  1173.0    3.0   800.0  1193.0  1773.0   \n",
       "households          12549.0   499.0   385.0    2.0   277.0   405.0   602.0   \n",
       "median_income       12549.0     4.0     2.0    0.0     3.0     3.0     5.0   \n",
       "median_house_value  12549.0    12.0     1.0   10.0    12.0    12.0    12.0   \n",
       "\n",
       "                        max  \n",
       "longitude            -114.0  \n",
       "latitude               42.0  \n",
       "housing_median_age     52.0  \n",
       "total_rooms         39320.0  \n",
       "total_bedrooms       6445.0  \n",
       "population          35682.0  \n",
       "households           6082.0  \n",
       "median_income          15.0  \n",
       "median_house_value     13.0  "
      ]
     },
     "execution_count": 9,
     "metadata": {},
     "output_type": "execute_result"
    }
   ],
   "source": [
    "df_full_train.describe().T.round()"
   ]
  },
  {
   "cell_type": "code",
   "execution_count": 10,
   "metadata": {},
   "outputs": [
    {
     "data": {
      "text/plain": [
       "<Axes: >"
      ]
     },
     "execution_count": 10,
     "metadata": {},
     "output_type": "execute_result"
    },
    {
     "data": {
      "image/png": "[encoded data removed]",
      "text/plain": [
       "<Figure size 640x480 with 1 Axes>"
      ]
     },
     "metadata": {},
     "output_type": "display_data"
    }
   ],
   "source": [
    "df_full_train['median_house_value'].plot.box()"
   ]
  },
  {
   "cell_type": "code",
   "execution_count": 11,
   "metadata": {},
   "outputs": [
    {
     "data": {
      "image/png": "[encoded data removed]",
      "text/plain": [
       "<Figure size 640x480 with 1 Axes>"
      ]
     },
     "metadata": {},
     "output_type": "display_data"
    }
   ],
   "source": [
    "sns.histplot(data.median_house_value)\n",
    "plt.title('Distribution of target AFTER treatment')\n",
    "plt.show()"
   ]
  },
  {
   "cell_type": "code",
   "execution_count": 12,
   "metadata": {},
   "outputs": [
    {
     "data": {
      "text/plain": [
       "count    12549.000000\n",
       "mean        12.011774\n",
       "std          0.565790\n",
       "min          9.615805\n",
       "5%          11.036517\n",
       "25%         11.619095\n",
       "50%         12.028745\n",
       "75%         12.393386\n",
       "95%         13.000740\n",
       "max         13.122367\n",
       "Name: median_house_value, dtype: float64"
      ]
     },
     "execution_count": 12,
     "metadata": {},
     "output_type": "execute_result"
    }
   ],
   "source": [
    "df_full_train['median_house_value'].describe(percentiles=[.05, .25, .50, .75, .95])"
   ]
  },
  {
   "cell_type": "code",
   "execution_count": 13,
   "metadata": {},
   "outputs": [
    {
     "name": "stdout",
     "output_type": "stream",
     "text": [
      "9411 3138 3138\n"
     ]
    }
   ],
   "source": [
    "df_train = df_train.reset_index(drop=True)\n",
    "df_val = df_val.reset_index(drop=True)\n",
    "df_test = df_test.reset_index(drop=True)\n",
    "print(len(df_train), len(df_val), len(df_test))"
   ]
  },
  {
   "cell_type": "code",
   "execution_count": 14,
   "metadata": {},
   "outputs": [
    {
     "name": "stdout",
     "output_type": "stream",
     "text": [
      "9411 3138 3138\n"
     ]
    }
   ],
   "source": [
    "y_train = df_train.median_house_value.values\n",
    "y_val = df_val.median_house_value.values\n",
    "y_test = df_test.median_house_value.values\n",
    "print(len(y_train), len(y_val), len(y_test))"
   ]
  },
  {
   "cell_type": "code",
   "execution_count": 15,
   "metadata": {},
   "outputs": [],
   "source": [
    "# remove target from df\n",
    "del df_train['median_house_value']\n",
    "del df_val['median_house_value']\n",
    "del df_test['median_house_value']"
   ]
  },
  {
   "cell_type": "code",
   "execution_count": 16,
   "metadata": {},
   "outputs": [
    {
     "name": "stdout",
     "output_type": "stream",
     "text": [
      "(9411, 9) (3138, 9) (3138, 9)\n"
     ]
    }
   ],
   "source": [
    "print((df_train.shape), (df_val.shape), (df_test.shape))"
   ]
  },
  {
   "cell_type": "markdown",
   "metadata": {},
   "source": [
    "### df_train -> X_train"
   ]
  },
  {
   "cell_type": "code",
   "execution_count": 17,
   "metadata": {},
   "outputs": [],
   "source": [
    "dicts = df_train.to_dict(orient='records')\n",
    "dv = DictVectorizer(sparse=True)\n",
    "X_train = dv.fit_transform(dicts)"
   ]
  },
  {
   "cell_type": "markdown",
   "metadata": {},
   "source": [
    "### df_val -> X_val"
   ]
  },
  {
   "cell_type": "code",
   "execution_count": 18,
   "metadata": {},
   "outputs": [],
   "source": [
    "dicts = df_val.to_dict(orient='records')\n",
    "dv = DictVectorizer(sparse=True)\n",
    "X_val = dv.fit_transform(dicts)"
   ]
  },
  {
   "cell_type": "markdown",
   "metadata": {},
   "source": [
    "## Question 1\n",
    "\n",
    "Let's train a decision tree regressor to predict the `median_house_value` variable. \n",
    "\n",
    "* Train a model with `max_depth=1`.\n",
    "\n",
    "\n",
    "Which feature is used for splitting the data?\n",
    "\n",
    "* `ocean_proximity`\n",
    "* `total_rooms`\n",
    "* `latitude`\n",
    "* `population`"
   ]
  },
  {
   "cell_type": "markdown",
   "metadata": {},
   "source": [
    "### DecisionTreeRegressor"
   ]
  },
  {
   "cell_type": "code",
   "execution_count": 19,
   "metadata": {},
   "outputs": [
    {
     "name": "stdout",
     "output_type": "stream",
     "text": [
      "|--- ocean_proximity=<1H OCEAN <= 0.50\n",
      "|   |--- value: [11.61]\n",
      "|--- ocean_proximity=<1H OCEAN >  0.50\n",
      "|   |--- value: [12.30]\n",
      "\n"
     ]
    }
   ],
   "source": [
    "dt_regr = DecisionTreeRegressor(max_depth=1)\n",
    "dt_regr.fit(X_train, y_train)\n",
    "y_pred = dt_regr.predict(X_val)\n",
    "\n",
    "print(export_text(dt_regr, feature_names=list(dv.get_feature_names_out())))"
   ]
  },
  {
   "cell_type": "markdown",
   "metadata": {},
   "source": [
    "Q: Which feature is used for splitting the data?\n",
    "\n",
    "A: `ocean_proximity`\n",
    "\n",
    "### qn1 ans: `ocean_proximity`\n",
    "\n",
    "\n",
    "\n",
    "## Question 2\n",
    "\n",
    "Train a random forest model with these parameters:\n",
    "\n",
    "* `n_estimators=10`\n",
    "* `random_state=1`\n",
    "* `n_jobs=-1` (optional - to make training faster)"
   ]
  },
  {
   "cell_type": "markdown",
   "metadata": {},
   "source": [
    "### RandomForestRegressor\n",
    "\n",
    "add `n_estimators` to train_rf(df, y, n_estimators)"
   ]
  },
  {
   "cell_type": "code",
   "execution_count": 20,
   "metadata": {},
   "outputs": [
    {
     "name": "stdout",
     "output_type": "stream",
     "text": [
      "RandomForestRegressor RMSE: 0.245\n"
     ]
    }
   ],
   "source": [
    "rf_regr = RandomForestRegressor(n_estimators=10, random_state=1, n_jobs=-1)\n",
    "rf_regr.fit(X_train, y_train)\n",
    "y_pred = rf_regr.predict(X_val)\n",
    "\n",
    "rmse = mean_squared_error(y_val, y_pred, squared=False)\n",
    "print(f'RandomForestRegressor RMSE: {rmse.round(3)}')"
   ]
  },
  {
   "cell_type": "markdown",
   "metadata": {},
   "source": [
    "Q: What's the RMSE of this model on validation?\n",
    "\n",
    "### qn2 ans: `0.245`\n",
    "\n",
    "A: `0.245`\n",
    "\n",
    "## Question 3\n",
    "\n",
    "Now let's experiment with the `n_estimators` parameter\n",
    "\n",
    "* Try different values of this parameter from 10 to 200 with step 10.\n",
    "* Set `random_state` to `1`.\n",
    "* Evaluate the model on the validation dataset."
   ]
  },
  {
   "cell_type": "code",
   "execution_count": 21,
   "metadata": {},
   "outputs": [
    {
     "data": {
      "application/vnd.jupyter.widget-view+json": {
       "model_id": "0d2a61cbe43f4519ab2cfca77a204929",
       "version_major": 2,
       "version_minor": 0
      },
      "text/plain": [
       "Looping n_estimators:   0%|          | 0/20 [00:00<?, ?it/s]"
      ]
     },
     "metadata": {},
     "output_type": "display_data"
    }
   ],
   "source": [
    "rmse = {}\n",
    "\n",
    "for n in tqdm(range(10, 201, 10), desc='Looping n_estimators'):\n",
    "    rf_regr = RandomForestRegressor(n_estimators=n, random_state=1, n_jobs=-1)\n",
    "    rf_regr.fit(X_train, y_train)\n",
    "    y_pred = rf_regr.predict(X_val)\n",
    "\n",
    "    rmse[str(n)] = mean_squared_error(y_val, y_pred, squared=False).round(3)"
   ]
  },
  {
   "cell_type": "code",
   "execution_count": 22,
   "metadata": {},
   "outputs": [
    {
     "data": {
      "text/plain": [
       "{'10': 0.245,\n",
       " '20': 0.239,\n",
       " '30': 0.237,\n",
       " '40': 0.236,\n",
       " '50': 0.235,\n",
       " '60': 0.235,\n",
       " '70': 0.234,\n",
       " '80': 0.235,\n",
       " '90': 0.235,\n",
       " '100': 0.234,\n",
       " '110': 0.234,\n",
       " '120': 0.234,\n",
       " '130': 0.234,\n",
       " '140': 0.234,\n",
       " '150': 0.234,\n",
       " '160': 0.233,\n",
       " '170': 0.233,\n",
       " '180': 0.234,\n",
       " '190': 0.234,\n",
       " '200': 0.234}"
      ]
     },
     "execution_count": 22,
     "metadata": {},
     "output_type": "execute_result"
    }
   ],
   "source": [
    "rmse"
   ]
  },
  {
   "cell_type": "markdown",
   "metadata": {},
   "source": [
    "Q: After which value of `n_estimators` does RMSE stop improving?\n",
    "\n",
    "- 10\n",
    "- 25\n",
    "- 50\n",
    "- 160\n",
    "\n",
    "### qn3 ans: `160`\n",
    "\n",
    "A: `160`\n",
    "\n",
    "## Question 4\n",
    "\n",
    "Let's select the best `max_depth`:\n",
    "\n",
    "* Try different values of `max_depth`: `[10, 15, 20, 25]`\n",
    "* For each of these values, try different values of `n_estimators` from 10 till 200 (with step 10)\n",
    "* Fix the random seed: `random_state=1`"
   ]
  },
  {
   "cell_type": "code",
   "execution_count": 23,
   "metadata": {},
   "outputs": [
    {
     "data": {
      "application/vnd.jupyter.widget-view+json": {
       "model_id": "a6161dfb5e3e4f5fb160c1d42de99be9",
       "version_major": 2,
       "version_minor": 0
      },
      "text/plain": [
       "Looping max_depth:   0%|          | 0/4 [00:00<?, ?it/s]"
      ]
     },
     "metadata": {},
     "output_type": "display_data"
    },
    {
     "data": {
      "application/vnd.jupyter.widget-view+json": {
       "model_id": "a06703c935ba4cd7bf7bce78d557093f",
       "version_major": 2,
       "version_minor": 0
      },
      "text/plain": [
       "Looping n_estimators:   0%|          | 0/20 [00:00<?, ?it/s]"
      ]
     },
     "metadata": {},
     "output_type": "display_data"
    },
    {
     "name": "stdout",
     "output_type": "stream",
     "text": [
      "Training with params max_depth = 10\tn_estimators = 10\n",
      "Training with params max_depth = 10\tn_estimators = 20\n",
      "Training with params max_depth = 10\tn_estimators = 30\n",
      "Training with params max_depth = 10\tn_estimators = 40\n",
      "Training with params max_depth = 10\tn_estimators = 50\n",
      "Training with params max_depth = 10\tn_estimators = 60\n",
      "Training with params max_depth = 10\tn_estimators = 70\n",
      "Training with params max_depth = 10\tn_estimators = 80\n",
      "Training with params max_depth = 10\tn_estimators = 90\n",
      "Training with params max_depth = 10\tn_estimators = 100\n",
      "Training with params max_depth = 10\tn_estimators = 110\n",
      "Training with params max_depth = 10\tn_estimators = 120\n",
      "Training with params max_depth = 10\tn_estimators = 130\n",
      "Training with params max_depth = 10\tn_estimators = 140\n",
      "Training with params max_depth = 10\tn_estimators = 150\n",
      "Training with params max_depth = 10\tn_estimators = 160\n",
      "Training with params max_depth = 10\tn_estimators = 170\n",
      "Training with params max_depth = 10\tn_estimators = 180\n",
      "Training with params max_depth = 10\tn_estimators = 190\n",
      "Training with params max_depth = 10\tn_estimators = 200\n",
      "{    '10': 0.251,\n",
      "     '20': 0.248,\n",
      "     '30': 0.246,\n",
      "     '40': 0.245,\n",
      "     '50': 0.246,\n",
      "     '60': 0.245,\n",
      "     '70': 0.245,\n",
      "     '80': 0.246,\n",
      "     '90': 0.246,\n",
      "     '100': 0.245,\n",
      "     '110': 0.245,\n",
      "     '120': 0.245,\n",
      "     '130': 0.245,\n",
      "     '140': 0.245,\n",
      "     '150': 0.245,\n",
      "     '160': 0.245,\n",
      "     '170': 0.244,\n",
      "     '180': 0.245,\n",
      "     '190': 0.245,\n",
      "     '200': 0.245}\n"
     ]
    },
    {
     "data": {
      "application/vnd.jupyter.widget-view+json": {
       "model_id": "d2d8b0915aeb40c8987fcc8ab7f3ae26",
       "version_major": 2,
       "version_minor": 0
      },
      "text/plain": [
       "Looping n_estimators:   0%|          | 0/20 [00:00<?, ?it/s]"
      ]
     },
     "metadata": {},
     "output_type": "display_data"
    },
    {
     "name": "stdout",
     "output_type": "stream",
     "text": [
      "Training with params max_depth = 15\tn_estimators = 10\n",
      "Training with params max_depth = 15\tn_estimators = 20\n",
      "Training with params max_depth = 15\tn_estimators = 30\n",
      "Training with params max_depth = 15\tn_estimators = 40\n",
      "Training with params max_depth = 15\tn_estimators = 50\n",
      "Training with params max_depth = 15\tn_estimators = 60\n",
      "Training with params max_depth = 15\tn_estimators = 70\n",
      "Training with params max_depth = 15\tn_estimators = 80\n",
      "Training with params max_depth = 15\tn_estimators = 90\n",
      "Training with params max_depth = 15\tn_estimators = 100\n",
      "Training with params max_depth = 15\tn_estimators = 110\n",
      "Training with params max_depth = 15\tn_estimators = 120\n",
      "Training with params max_depth = 15\tn_estimators = 130\n",
      "Training with params max_depth = 15\tn_estimators = 140\n",
      "Training with params max_depth = 15\tn_estimators = 150\n",
      "Training with params max_depth = 15\tn_estimators = 160\n",
      "Training with params max_depth = 15\tn_estimators = 170\n",
      "Training with params max_depth = 15\tn_estimators = 180\n",
      "Training with params max_depth = 15\tn_estimators = 190\n",
      "Training with params max_depth = 15\tn_estimators = 200\n",
      "{    '10': 0.246,\n",
      "     '20': 0.24,\n",
      "     '30': 0.238,\n",
      "     '40': 0.236,\n",
      "     '50': 0.236,\n",
      "     '60': 0.236,\n",
      "     '70': 0.236,\n",
      "     '80': 0.236,\n",
      "     '90': 0.235,\n",
      "     '100': 0.235,\n",
      "     '110': 0.235,\n",
      "     '120': 0.235,\n",
      "     '130': 0.235,\n",
      "     '140': 0.235,\n",
      "     '150': 0.235,\n",
      "     '160': 0.234,\n",
      "     '170': 0.234,\n",
      "     '180': 0.235,\n",
      "     '190': 0.235,\n",
      "     '200': 0.235}\n"
     ]
    },
    {
     "data": {
      "application/vnd.jupyter.widget-view+json": {
       "model_id": "949aed468d7a4f94bf1607ade16dcde1",
       "version_major": 2,
       "version_minor": 0
      },
      "text/plain": [
       "Looping n_estimators:   0%|          | 0/20 [00:00<?, ?it/s]"
      ]
     },
     "metadata": {},
     "output_type": "display_data"
    },
    {
     "name": "stdout",
     "output_type": "stream",
     "text": [
      "Training with params max_depth = 20\tn_estimators = 10\n",
      "Training with params max_depth = 20\tn_estimators = 20\n",
      "Training with params max_depth = 20\tn_estimators = 30\n",
      "Training with params max_depth = 20\tn_estimators = 40\n",
      "Training with params max_depth = 20\tn_estimators = 50\n",
      "Training with params max_depth = 20\tn_estimators = 60\n",
      "Training with params max_depth = 20\tn_estimators = 70\n",
      "Training with params max_depth = 20\tn_estimators = 80\n",
      "Training with params max_depth = 20\tn_estimators = 90\n",
      "Training with params max_depth = 20\tn_estimators = 100\n",
      "Training with params max_depth = 20\tn_estimators = 110\n",
      "Training with params max_depth = 20\tn_estimators = 120\n",
      "Training with params max_depth = 20\tn_estimators = 130\n",
      "Training with params max_depth = 20\tn_estimators = 140\n",
      "Training with params max_depth = 20\tn_estimators = 150\n",
      "Training with params max_depth = 20\tn_estimators = 160\n",
      "Training with params max_depth = 20\tn_estimators = 170\n",
      "Training with params max_depth = 20\tn_estimators = 180\n",
      "Training with params max_depth = 20\tn_estimators = 190\n",
      "Training with params max_depth = 20\tn_estimators = 200\n",
      "{    '10': 0.245,\n",
      "     '20': 0.239,\n",
      "     '30': 0.237,\n",
      "     '40': 0.235,\n",
      "     '50': 0.235,\n",
      "     '60': 0.235,\n",
      "     '70': 0.235,\n",
      "     '80': 0.235,\n",
      "     '90': 0.235,\n",
      "     '100': 0.235,\n",
      "     '110': 0.234,\n",
      "     '120': 0.234,\n",
      "     '130': 0.234,\n",
      "     '140': 0.234,\n",
      "     '150': 0.234,\n",
      "     '160': 0.234,\n",
      "     '170': 0.234,\n",
      "     '180': 0.234,\n",
      "     '190': 0.234,\n",
      "     '200': 0.234}\n"
     ]
    },
    {
     "data": {
      "application/vnd.jupyter.widget-view+json": {
       "model_id": "941922eb6e0c40ed9ba160ea5b47035b",
       "version_major": 2,
       "version_minor": 0
      },
      "text/plain": [
       "Looping n_estimators:   0%|          | 0/20 [00:00<?, ?it/s]"
      ]
     },
     "metadata": {},
     "output_type": "display_data"
    },
    {
     "name": "stdout",
     "output_type": "stream",
     "text": [
      "Training with params max_depth = 25\tn_estimators = 10\n",
      "Training with params max_depth = 25\tn_estimators = 20\n",
      "Training with params max_depth = 25\tn_estimators = 30\n",
      "Training with params max_depth = 25\tn_estimators = 40\n",
      "Training with params max_depth = 25\tn_estimators = 50\n",
      "Training with params max_depth = 25\tn_estimators = 60\n",
      "Training with params max_depth = 25\tn_estimators = 70\n",
      "Training with params max_depth = 25\tn_estimators = 80\n",
      "Training with params max_depth = 25\tn_estimators = 90\n",
      "Training with params max_depth = 25\tn_estimators = 100\n",
      "Training with params max_depth = 25\tn_estimators = 110\n",
      "Training with params max_depth = 25\tn_estimators = 120\n",
      "Training with params max_depth = 25\tn_estimators = 130\n",
      "Training with params max_depth = 25\tn_estimators = 140\n",
      "Training with params max_depth = 25\tn_estimators = 150\n",
      "Training with params max_depth = 25\tn_estimators = 160\n",
      "Training with params max_depth = 25\tn_estimators = 170\n",
      "Training with params max_depth = 25\tn_estimators = 180\n",
      "Training with params max_depth = 25\tn_estimators = 190\n",
      "Training with params max_depth = 25\tn_estimators = 200\n",
      "{    '10': 0.244,\n",
      "     '20': 0.238,\n",
      "     '30': 0.236,\n",
      "     '40': 0.235,\n",
      "     '50': 0.234,\n",
      "     '60': 0.234,\n",
      "     '70': 0.234,\n",
      "     '80': 0.234,\n",
      "     '90': 0.234,\n",
      "     '100': 0.234,\n",
      "     '110': 0.234,\n",
      "     '120': 0.234,\n",
      "     '130': 0.234,\n",
      "     '140': 0.234,\n",
      "     '150': 0.234,\n",
      "     '160': 0.233,\n",
      "     '170': 0.233,\n",
      "     '180': 0.234,\n",
      "     '190': 0.234,\n",
      "     '200': 0.234}\n"
     ]
    }
   ],
   "source": [
    "from pprint import pprint\n",
    "\n",
    "rmse_scores = {}\n",
    "\n",
    "for m in tqdm([10, 15, 20, 25], desc='Looping max_depth'):\n",
    "    rmse_dict = {}\n",
    "    \n",
    "    for n in tqdm(range(10, 201, 10), desc='Looping n_estimators'):\n",
    "        print(f'Training with params max_depth = {m}\\tn_estimators = {n}')\n",
    "        rf_regr = RandomForestRegressor(n_estimators=n, max_depth=m, random_state=1, n_jobs=-1)\n",
    "        rf_regr.fit(X_train, y_train)\n",
    "        y_pred = rf_regr.predict(X_val)\n",
    "\n",
    "        rmse_dict[str(n)] = mean_squared_error(y_val, y_pred, squared=False).round(3)\n",
    "\n",
    "    pprint(rmse_dict, indent=5, sort_dicts=False)\n",
    "    rmse_scores[str(m)] = {\n",
    "        'min' : np.min(list(rmse_dict.values())),\n",
    "        'mean' : np.mean(list(rmse_dict.values())),\n",
    "        'max' : np.max(list(rmse_dict.values()))\n",
    "    }\n"
   ]
  },
  {
   "cell_type": "markdown",
   "metadata": {},
   "source": [
    "something wrong here, they are all the same:\n",
    "```\n",
    "rmse_scores[str(m)] = {\n",
    "    'max' : rmse_dict[str(n)].max().round(5),\n",
    "    'mean' : rmse_dict[str(n)].mean().round(5),\n",
    "    'min' : rmse_dict[str(n)].min().round(5)\n",
    "    }\n",
    "```\n",
    "```\n",
    "{'10': {'max': 0.24477, 'mean': 0.24477, 'min': 0.24477},\n",
    " '15': {'max': 0.2346, 'mean': 0.2346, 'min': 0.2346},\n",
    " '20': {'max': 0.23392, 'mean': 0.23392, 'min': 0.23392},\n",
    " '25': {'max': 0.23374, 'mean': 0.23374, 'min': 0.23374}}\n",
    "```\n",
    "\n",
    "At what point do I record the min/max values?\n",
    "\n",
    "correction: `max(foo.values())` as example\n",
    "\n",
    "```\n",
    "    rmse_scores[str(m)] = {\n",
    "        'min' : np.min(list(rmse_dict.values())),\n",
    "        'mean' : np.mean(list(rmse_dict.values())),\n",
    "        'max' : np.max(list(rmse_dict.values()))\n",
    "    }\n",
    "```"
   ]
  },
  {
   "cell_type": "code",
   "execution_count": 24,
   "metadata": {},
   "outputs": [
    {
     "name": "stdout",
     "output_type": "stream",
     "text": [
      "{'10': {'max': 0.251, 'mean': 0.24559999999999998, 'min': 0.244},\n",
      " '15': {'max': 0.246, 'mean': 0.23610000000000006, 'min': 0.234},\n",
      " '20': {'max': 0.245, 'mean': 0.23529999999999998, 'min': 0.234},\n",
      " '25': {'max': 0.244, 'mean': 0.23475000000000001, 'min': 0.233}}\n"
     ]
    }
   ],
   "source": [
    "pprint(rmse_scores)"
   ]
  },
  {
   "cell_type": "markdown",
   "metadata": {},
   "source": [
    "Q: What's the best `max_depth`:\n",
    "\n",
    "* 10\n",
    "* 15\n",
    "* 20\n",
    "* 25\n",
    "\n",
    "### qn4 ans: 25\n",
    "\n",
    "A: `25`\n",
    "\n",
    "## Question 5\n",
    "\n",
    "We can extract feature importance information from tree-based models. \n",
    "\n",
    "At each step of the decision tree learning algorithm, it finds the best split. \n",
    "When doing it, we can calculate \"gain\" - the reduction in impurity before and after the split. \n",
    "This gain is quite useful in understanding what are the important features \n",
    "for tree-based models.\n",
    "\n",
    "In Scikit-Learn, tree-based models contain this information in the\n",
    "[`feature_importances_`](https://scikit-learn.org/stable/modules/generated/sklearn.ensemble.RandomForestRegressor.html#sklearn.ensemble.RandomForestRegressor.feature_importances_)\n",
    "field. \n",
    "\n",
    "For this homework question, we'll find the most important feature:\n",
    "\n",
    "* Train the model with these parametes:\n",
    "    * `n_estimators=10`,\n",
    "    * `max_depth=20`,\n",
    "    * `random_state=1`,\n",
    "    * `n_jobs=-1` (optional)\n",
    "* Get the feature importance information from this model"
   ]
  },
  {
   "cell_type": "code",
   "execution_count": 25,
   "metadata": {},
   "outputs": [
    {
     "data": {
      "text/html": [
       "<style>#sk-container-id-1 {color: black;}#sk-container-id-1 pre{padding: 0;}#sk-container-id-1 div.sk-toggleable {background-color: white;}#sk-container-id-1 label.sk-toggleable__label {cursor: pointer;display: block;width: 100%;margin-bottom: 0;padding: 0.3em;box-sizing: border-box;text-align: center;}#sk-container-id-1 label.sk-toggleable__label-arrow:before {content: \"▸\";float: left;margin-right: 0.25em;color: #696969;}#sk-container-id-1 label.sk-toggleable__label-arrow:hover:before {color: black;}#sk-container-id-1 div.sk-estimator:hover label.sk-toggleable__label-arrow:before {color: black;}#sk-container-id-1 div.sk-toggleable__content {max-height: 0;max-width: 0;overflow: hidden;text-align: left;background-color: #f0f8ff;}#sk-container-id-1 div.sk-toggleable__content pre {margin: 0.2em;color: black;border-radius: 0.25em;background-color: #f0f8ff;}#sk-container-id-1 input.sk-toggleable__control:checked~div.sk-toggleable__content {max-height: 200px;max-width: 100%;overflow: auto;}#sk-container-id-1 input.sk-toggleable__control:checked~label.sk-toggleable__label-arrow:before {content: \"▾\";}#sk-container-id-1 div.sk-estimator input.sk-toggleable__control:checked~label.sk-toggleable__label {background-color: #d4ebff;}#sk-container-id-1 div.sk-label input.sk-toggleable__control:checked~label.sk-toggleable__label {background-color: #d4ebff;}#sk-container-id-1 input.sk-hidden--visually {border: 0;clip: rect(1px 1px 1px 1px);clip: rect(1px, 1px, 1px, 1px);height: 1px;margin: -1px;overflow: hidden;padding: 0;position: absolute;width: 1px;}#sk-container-id-1 div.sk-estimator {font-family: monospace;background-color: #f0f8ff;border: 1px dotted black;border-radius: 0.25em;box-sizing: border-box;margin-bottom: 0.5em;}#sk-container-id-1 div.sk-estimator:hover {background-color: #d4ebff;}#sk-container-id-1 div.sk-parallel-item::after {content: \"\";width: 100%;border-bottom: 1px solid gray;flex-grow: 1;}#sk-container-id-1 div.sk-label:hover label.sk-toggleable__label {background-color: #d4ebff;}#sk-container-id-1 div.sk-serial::before {content: \"\";position: absolute;border-left: 1px solid gray;box-sizing: border-box;top: 0;bottom: 0;left: 50%;z-index: 0;}#sk-container-id-1 div.sk-serial {display: flex;flex-direction: column;align-items: center;background-color: white;padding-right: 0.2em;padding-left: 0.2em;position: relative;}#sk-container-id-1 div.sk-item {position: relative;z-index: 1;}#sk-container-id-1 div.sk-parallel {display: flex;align-items: stretch;justify-content: center;background-color: white;position: relative;}#sk-container-id-1 div.sk-item::before, #sk-container-id-1 div.sk-parallel-item::before {content: \"\";position: absolute;border-left: 1px solid gray;box-sizing: border-box;top: 0;bottom: 0;left: 50%;z-index: -1;}#sk-container-id-1 div.sk-parallel-item {display: flex;flex-direction: column;z-index: 1;position: relative;background-color: white;}#sk-container-id-1 div.sk-parallel-item:first-child::after {align-self: flex-end;width: 50%;}#sk-container-id-1 div.sk-parallel-item:last-child::after {align-self: flex-start;width: 50%;}#sk-container-id-1 div.sk-parallel-item:only-child::after {width: 0;}#sk-container-id-1 div.sk-dashed-wrapped {border: 1px dashed gray;margin: 0 0.4em 0.5em 0.4em;box-sizing: border-box;padding-bottom: 0.4em;background-color: white;}#sk-container-id-1 div.sk-label label {font-family: monospace;font-weight: bold;display: inline-block;line-height: 1.2em;}#sk-container-id-1 div.sk-label-container {text-align: center;}#sk-container-id-1 div.sk-container {/* jupyter's `normalize.less` sets `[hidden] { display: none; }` but bootstrap.min.css set `[hidden] { display: none !important; }` so we also need the `!important` here to be able to override the default hidden behavior on the sphinx rendered scikit-learn.org. See: https://github.com/scikit-learn/scikit-learn/issues/21755 */display: inline-block !important;position: relative;}#sk-container-id-1 div.sk-text-repr-fallback {display: none;}</style><div id=\"sk-container-id-1\" class=\"sk-top-container\"><div class=\"sk-text-repr-fallback\"><pre>RandomForestRegressor(max_depth=20, n_estimators=10, n_jobs=-1, random_state=1)</pre><b>In a Jupyter environment, please rerun this cell to show the HTML representation or trust the notebook. <br />On GitHub, the HTML representation is unable to render, please try loading this page with nbviewer.org.</b></div><div class=\"sk-container\" hidden><div class=\"sk-item\"><div class=\"sk-estimator sk-toggleable\"><input class=\"sk-toggleable__control sk-hidden--visually\" id=\"sk-estimator-id-1\" type=\"checkbox\" checked><label for=\"sk-estimator-id-1\" class=\"sk-toggleable__label sk-toggleable__label-arrow\">RandomForestRegressor</label><div class=\"sk-toggleable__content\"><pre>RandomForestRegressor(max_depth=20, n_estimators=10, n_jobs=-1, random_state=1)</pre></div></div></div></div></div>"
      ],
      "text/plain": [
       "RandomForestRegressor(max_depth=20, n_estimators=10, n_jobs=-1, random_state=1)"
      ]
     },
     "execution_count": 25,
     "metadata": {},
     "output_type": "execute_result"
    }
   ],
   "source": [
    "rf_regr = RandomForestRegressor(n_estimators=10, max_depth=20, random_state=1, n_jobs=-1)\n",
    "rf_regr.fit(X_train, y_train)"
   ]
  },
  {
   "cell_type": "markdown",
   "metadata": {},
   "source": [
    "For example, if importances is an array of feature importances, then importances.argsort() would return an array of indices such that importances[indices[0]] is the importance of the least important feature, and importances[indices[-1]] is the importance of the most important feature."
   ]
  },
  {
   "cell_type": "code",
   "execution_count": 26,
   "metadata": {},
   "outputs": [
    {
     "data": {
      "image/png": "[encoded data removed]",
      "text/plain": [
       "<Figure size 640x480 with 1 Axes>"
      ]
     },
     "metadata": {},
     "output_type": "display_data"
    }
   ],
   "source": [
    "features = dv.feature_names_\n",
    "importances = rf_regr.feature_importances_\n",
    "indices = np.argsort(importances)\n",
    "\n",
    "plt.title('Feature Importances')\n",
    "plt.barh(range(len(indices)), importances[indices], color='b', align='center')\n",
    "plt.yticks(range(len(indices)), [features[i] for i in indices])\n",
    "plt.xlabel('Relative Importance')\n",
    "plt.show()"
   ]
  },
  {
   "cell_type": "markdown",
   "metadata": {},
   "source": [
    "Q: What's the most important feature (among these 4)? \n",
    "\n",
    "* `total_rooms`\n",
    "* `median_income`\n",
    "* `total_bedrooms`\n",
    "* `longitude`\n",
    "\n",
    "### qn5 ans: `median_income`\n",
    "\n",
    "A: `median_income`\n",
    "\n",
    "## Question 6\n",
    "\n",
    "Now let's train an XGBoost model! For this question, we'll tune the `eta` parameter:\n",
    "\n",
    "* Install XGBoost\n",
    "* Create DMatrix for train and validation\n",
    "* Create a watchlist\n",
    "* Train a model with these parameters for 100 rounds:\n",
    "\n",
    "```\n",
    "xgb_params = {\n",
    "    'eta': 0.3, \n",
    "    'max_depth': 6,\n",
    "    'min_child_weight': 1,\n",
    "    \n",
    "    'objective': 'reg:squarederror',\n",
    "    'nthread': 8,\n",
    "    \n",
    "    'seed': 1,\n",
    "    'verbosity': 1,\n",
    "}\n",
    "```\n",
    "\n",
    "Now change `eta` from `0.3` to `0.1`."
   ]
  },
  {
   "cell_type": "code",
   "execution_count": 27,
   "metadata": {},
   "outputs": [],
   "source": [
    "def parse_xgb_output(output):\n",
    "    results = []\n",
    "\n",
    "    for line in output.stdout.strip().split('\\n'):\n",
    "        it_line, train_line, val_line = line.split('\\t')\n",
    "\n",
    "        it = int(it_line.strip('[]'))\n",
    "        train = float(train_line.split(':')[1])\n",
    "        val = float(val_line.split(':')[1])\n",
    "\n",
    "        results.append((it, train, val))\n",
    "    \n",
    "    columns = ['num_iter', 'train_rmse', 'val_rmse']\n",
    "    df_results = pd.DataFrame(results, columns=columns)\n",
    "    return df_results"
   ]
  },
  {
   "cell_type": "code",
   "execution_count": 28,
   "metadata": {},
   "outputs": [
    {
     "data": {
      "text/plain": [
       "['households',\n",
       " 'housing_median_age',\n",
       " 'latitude',\n",
       " 'longitude',\n",
       " 'median_income',\n",
       " 'ocean_proximity_lt_1H OCEAN',\n",
       " 'ocean_proximity_INLAND',\n",
       " 'population',\n",
       " 'total_bedrooms',\n",
       " 'total_rooms']"
      ]
     },
     "execution_count": 28,
     "metadata": {},
     "output_type": "execute_result"
    }
   ],
   "source": [
    "features = dv.feature_names_\n",
    "features= [sym.replace(\"=<\", \"_lt_\").replace(\"=\",\"_\") for sym in features]\n",
    "features"
   ]
  },
  {
   "cell_type": "code",
   "execution_count": 29,
   "metadata": {},
   "outputs": [],
   "source": [
    "dtrain = xgb.DMatrix(X_train, label=y_train, feature_names=features)\n",
    "dval = xgb.DMatrix(X_val, label=y_val, feature_names=features)"
   ]
  },
  {
   "cell_type": "code",
   "execution_count": 30,
   "metadata": {},
   "outputs": [],
   "source": [
    "watchlist = [(dtrain, 'train'), (dval, 'val')]\n",
    "\n",
    "scores = {}"
   ]
  },
  {
   "cell_type": "code",
   "execution_count": 38,
   "metadata": {},
   "outputs": [],
   "source": [
    "%%capture output\n",
    "\n",
    "eta = 0.1\n",
    "xgb_params = {\n",
    "    'eta': eta, \n",
    "    'max_depth': 6,\n",
    "    'min_child_weight': 1,\n",
    "    \n",
    "    'objective': 'reg:squarederror',\n",
    "    'nthread': 8,\n",
    "    \n",
    "    'seed': 1,\n",
    "    'verbosity': 1,\n",
    "    \"device\": \"cuda\",\n",
    "}\n",
    "\n",
    "model = xgb.train(\n",
    "    xgb_params, \n",
    "    dtrain, \n",
    "    num_boost_round=100,\n",
    "    evals=watchlist,\n",
    "    verbose_eval=5\n",
    ")"
   ]
  },
  {
   "cell_type": "code",
   "execution_count": 39,
   "metadata": {},
   "outputs": [],
   "source": [
    "s = output.stdout"
   ]
  },
  {
   "cell_type": "code",
   "execution_count": 40,
   "metadata": {},
   "outputs": [
    {
     "name": "stdout",
     "output_type": "stream",
     "text": [
      "[0]\ttrain-rmse:0.52432\tval-rmse:0.52014\n",
      "[5]\ttrain-rmse:0.37798\tval-rmse:0.38110\n",
      "[10]\ttrain-rmse:0.30\n"
     ]
    }
   ],
   "source": [
    "print(s[:100])"
   ]
  },
  {
   "cell_type": "code",
   "execution_count": 41,
   "metadata": {},
   "outputs": [
    {
     "name": "stdout",
     "output_type": "stream",
     "text": [
      "eta = 0.1\trmse = 0.2336004709022021\n"
     ]
    }
   ],
   "source": [
    "y_pred = model.predict(dval)\n",
    "rmse = mean_squared_error(y_val, y_pred, squared=False)\n",
    "print(f'eta = {eta}\\trmse = {rmse}')"
   ]
  },
  {
   "cell_type": "code",
   "execution_count": 42,
   "metadata": {},
   "outputs": [
    {
     "data": {
      "text/plain": [
       "'eta=0.1'"
      ]
     },
     "execution_count": 42,
     "metadata": {},
     "output_type": "execute_result"
    }
   ],
   "source": [
    "key = 'eta=%s' % (xgb_params['eta'])\n",
    "scores[key] = parse_xgb_output(output)\n",
    "key"
   ]
  },
  {
   "cell_type": "code",
   "execution_count": 43,
   "metadata": {},
   "outputs": [
    {
     "data": {
      "text/plain": [
       "dict_keys(['eta=0.3', 'eta=0.1'])"
      ]
     },
     "execution_count": 43,
     "metadata": {},
     "output_type": "execute_result"
    }
   ],
   "source": [
    "scores.keys()"
   ]
  },
  {
   "cell_type": "code",
   "execution_count": 44,
   "metadata": {},
   "outputs": [
    {
     "name": "stdout",
     "output_type": "stream",
     "text": [
      "scores['eta=0.3']['val_rmse'].min() = 0.22961\n",
      "scores['eta=0.1']['val_rmse'].min() = 0.2336\n"
     ]
    }
   ],
   "source": [
    "print(f\"{scores['eta=0.3']['val_rmse'].min() = }\")\n",
    "print(f\"{scores['eta=0.1']['val_rmse'].min() = }\")"
   ]
  },
  {
   "cell_type": "code",
   "execution_count": null,
   "metadata": {},
   "outputs": [],
   "source": [
    "# print(np.min(scores.items()))"
   ]
  },
  {
   "cell_type": "code",
   "execution_count": 45,
   "metadata": {},
   "outputs": [],
   "source": [
    "df_score = parse_xgb_output(output)"
   ]
  },
  {
   "cell_type": "markdown",
   "metadata": {},
   "source": [
    "Q: Which eta leads to the best RMSE score on the validation dataset?\n",
    "\n",
    "* 0.3 == rmse = 0.22961\n",
    "* 0.1 == rmse = 0.2336\n",
    "* Both give equal value\n",
    "\n",
    "### qn6 ans: `0.3`\n",
    "\n",
    "A: `0.3`\n",
    "\n",
    "### Plot for tuning eta values"
   ]
  },
  {
   "cell_type": "code",
   "execution_count": 46,
   "metadata": {},
   "outputs": [
    {
     "data": {
      "image/png": "[encoded data removed]",
      "text/plain": [
       "<Figure size 640x480 with 1 Axes>"
      ]
     },
     "metadata": {},
     "output_type": "display_data"
    }
   ],
   "source": [
    "for eta, df_score in scores.items():\n",
    "    plt.plot(df_score.num_iter, df_score.val_rmse, label=eta)\n",
    "\n",
    "plt.title(f'Tuning eta values')\n",
    "plt.xlabel(f'num_iter')\n",
    "plt.ylabel(f'val_rmse')\n",
    "# plt.ylim(0.77, 0.84)\n",
    "plt.legend()\n",
    "plt.show()"
   ]
  },
  {
   "cell_type": "code",
   "execution_count": null,
   "metadata": {},
   "outputs": [],
   "source": []
  }
 ],
 "metadata": {
  "kernelspec": {
   "display_name": "Python 3",
   "language": "python",
   "name": "python3"
  },
  "language_info": {
   "codemirror_mode": {
    "name": "ipython",
    "version": 3
   },
   "file_extension": ".py",
   "mimetype": "text/x-python",
   "name": "python",
   "nbconvert_exporter": "python",
   "pygments_lexer": "ipython3",
   "version": "3.10.12"
  }
 },
 "nbformat": 4,
 "nbformat_minor": 2
}
