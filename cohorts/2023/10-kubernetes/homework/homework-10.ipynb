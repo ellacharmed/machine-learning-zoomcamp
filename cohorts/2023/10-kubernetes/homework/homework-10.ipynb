{
 "cells": [
  {
   "cell_type": "markdown",
   "id": "0a63b98c-646a-43f9-bb9e-33da2241de0d",
   "metadata": {
    "tags": []
   },
   "source": [
    "<div>\n",
    "    <a href=\"https://colab.research.google.com/github/ellacharmed/machine-learning-zoomcamp/blob/week08/cohorts/2023/08-deep-learning/homework-08.ipynb\">\n",
    "        <img src=\"https://colab.research.google.com/assets/colab-badge.svg\" width=\"120\" height=\"25\">\n",
    "    </a>\n",
    "    <a href=\"https://app.community.saturnenterprise.io/dash/o/community/resources?templateId=8e5976027b6a4f5e8f98c40574ded639\">\n",
    "        <img src=\"https://saturncloud.io/images/embed/run-in-saturn-cloud.svg\" width=\"120\" height=\"25\">\n",
    "    </a>\n",
    "</div>\n",
    "\n",
    "## Homework 10-kubernetes\n",
    "\n",
    "In this homework, we'll deploy the credit scoring model from the homework 5.\n",
    "We already have a docker image for this model - we'll use it for \n",
    "deploying the model to Kubernetes."
   ]
  },
  {
   "cell_type": "markdown",
   "id": "85a2c007-fd92-4be6-b292-736ca7dfef95",
   "metadata": {},
   "source": [
    "\n",
    "## Bulding the image\n",
    "\n",
    "Clone the course repo if you haven't:\n",
    "\n",
    "```\n",
    "git clone https://github.com/DataTalksClub/machine-learning-zoomcamp.git\n",
    "```\n",
    "\n",
    "Go to the `course-zoomcamp/cohorts/2023/05-deployment/homework` folder and \n",
    "execute the following:\n",
    "\n",
    "\n",
    "```bash\n",
    "docker build -t zoomcamp-model:hw10 .\n",
    "```\n",
    "\n",
    "> **Note:** If you have troubles building the image, you can \n",
    "> use the image we built and published to docker hub:\n",
    "> `docker pull svizor/zoomcamp-model:hw10`\n",
    "\n",
    "### Question 1 : `0.7269`\n",
    "\n",
    "Run it to test that it's working locally:\n",
    "\n",
    "```bash\n",
    "docker run -it --rm -p 9696:9696 zoomcamp-model:hw10\n",
    "```\n"
   ]
  },
  {
   "cell_type": "code",
   "execution_count": 11,
   "metadata": {},
   "outputs": [
    {
     "name": "stdout",
     "output_type": "stream",
     "text": [
      "/Users/ellaair/MEGA/Projects/machine-learning-zoomcamp/cohorts/2023/05-deployment/homework\n"
     ]
    }
   ],
   "source": [
    "%cd \"/Users/ellaair/MEGA/Projects/machine-learning-zoomcamp/cohorts/2023/05-deployment/homework\""
   ]
  },
  {
   "cell_type": "code",
   "execution_count": 12,
   "id": "796afec1-50c6-471c-b985-29155eebcb5f",
   "metadata": {
    "execution": {
     "iopub.execute_input": "2023-12-06T12:31:02.705165Z",
     "iopub.status.busy": "2023-12-06T12:31:02.704772Z",
     "iopub.status.idle": "2023-12-06T12:31:03.328008Z",
     "shell.execute_reply": "2023-12-06T12:31:03.327262Z",
     "shell.execute_reply.started": "2023-12-06T12:31:02.705135Z"
    },
    "tags": []
   },
   "outputs": [
    {
     "data": {
      "text/plain": [
       "'/Users/ellaair/MEGA/Projects/machine-learning-zoomcamp/cohorts/2023/05-deployment/homework'"
      ]
     },
     "execution_count": 12,
     "metadata": {},
     "output_type": "execute_result"
    }
   ],
   "source": [
    "%pwd"
   ]
  },
  {
   "cell_type": "markdown",
   "metadata": {},
   "source": [
    "And in another terminal, execute `q6_test.py` file:\n",
    "\n",
    "```bash\n",
    "python q6_test.py\n",
    "```\n",
    "\n",
    "You should see this:\n",
    "\n",
    "```python\n",
    "{'get_credit': True, 'get_credit_probability': <value>}\n",
    "```\n",
    "\n",
    "Here `<value>` is the probability of getting a credit card. You need to choose the right one.\n",
    "\n",
    "* 0.3269\n",
    "* 0.5269\n",
    "* 0.7269\n",
    "* 0.9269\n",
    "\n",
    "Now you can stop the container running in Docker."
   ]
  },
  {
   "cell_type": "code",
   "execution_count": 13,
   "id": "858e7616-e8a7-4536-abab-0af6411708d4",
   "metadata": {
    "execution": {
     "iopub.execute_input": "2023-12-06T12:31:15.836511Z",
     "iopub.status.busy": "2023-12-06T12:31:15.836076Z",
     "iopub.status.idle": "2023-12-06T12:31:16.646268Z",
     "shell.execute_reply": "2023-12-06T12:31:16.645538Z",
     "shell.execute_reply.started": "2023-12-06T12:31:15.836479Z"
    },
    "tags": []
   },
   "outputs": [
    {
     "name": "stdout",
     "output_type": "stream",
     "text": [
      "{'approval_probability': 0.726936946355423, 'loan approved': True}\n"
     ]
    }
   ],
   "source": [
    "!python qn6_test.py"
   ]
  },
  {
   "cell_type": "markdown",
   "id": "a9a07ebf-eab8-4b83-9769-f5b083ac4ff5",
   "metadata": {},
   "source": [
    "## Installing `kubectl` and `kind`\n",
    "\n",
    "You need to install:\n",
    "\n",
    "* `kubectl` - https://kubernetes.io/docs/tasks/tools/ (you might already have it - check before installing)\n",
    "* `kind` - https://kind.sigs.k8s.io/docs/user/quick-start/\n"
   ]
  },
  {
   "cell_type": "markdown",
   "id": "e1f70be5-8985-45da-a950-1bed05d6c1ad",
   "metadata": {},
   "source": [
    "### Question 2 : `0.20.0`\n",
    "\n",
    "What's the version of `kind` that you have? \n",
    "\n",
    "Use `kind --version` to find out.\n"
   ]
  },
  {
   "cell_type": "code",
   "execution_count": 14,
   "metadata": {},
   "outputs": [
    {
     "name": "stdout",
     "output_type": "stream",
     "text": [
      "kind version 0.20.0\n"
     ]
    }
   ],
   "source": [
    "!kind --version"
   ]
  },
  {
   "cell_type": "markdown",
   "id": "59c26518-3fea-4bdd-8e0d-1c29263346f3",
   "metadata": {},
   "source": [
    "## Creating a cluster\n",
    "\n",
    "Now let's create a cluster with `kind`:\n",
    "\n",
    "```bash\n",
    "kind create cluster\n",
    "```\n",
    "\n",
    "And check with `kubectl` that it was successfully created:\n",
    "\n",
    "```bash\n",
    "kubectl cluster-info\n",
    "```\n"
   ]
  },
  {
   "cell_type": "code",
   "execution_count": 15,
   "metadata": {},
   "outputs": [
    {
     "name": "stdout",
     "output_type": "stream",
     "text": [
      "NAME         TYPE        CLUSTER-IP   EXTERNAL-IP   PORT(S)   AGE\n",
      "kubernetes   ClusterIP   10.96.0.1    <none>        443/TCP   22s\n"
     ]
    }
   ],
   "source": [
    "!kubectl get service"
   ]
  },
  {
   "cell_type": "markdown",
   "id": "abc4eba4-6d4f-4165-98a1-3144275fa09a",
   "metadata": {},
   "source": [
    "### Question 3 : `10.96.0.1`\n",
    "\n",
    "Now let's test if everything works. Use `kubectl` to get the list of running services. \n",
    "\n",
    "What's `CLUSTER-IP` of the service that is already running there? \n"
   ]
  },
  {
   "cell_type": "code",
   "execution_count": 16,
   "metadata": {},
   "outputs": [
    {
     "name": "stdout",
     "output_type": "stream",
     "text": [
      "Image: \"zoomcamp-model:hw10\" with ID \"sha256:23acf085d7ff4faa067679a1cc4b5abf145d3fb9b4da8b9d2646cb74640360b0\" not yet present on node \"kind-control-plane\", loading...\n"
     ]
    }
   ],
   "source": [
    "!kind load docker-image zoomcamp-model:hw10"
   ]
  },
  {
   "cell_type": "markdown",
   "id": "d9c7a578-db52-4b78-b7ed-5ecd74951388",
   "metadata": {},
   "source": [
    "### Question 4 : `kind load docker-image`\n",
    "\n",
    "To be able to use the docker image we previously created (`zoomcamp-model:hw10`),\n",
    "we need to register it with `kind`.\n",
    "\n",
    "What's the command we need to run for that?\n",
    "\n",
    "* `kind create cluster`\n",
    "* `kind build node-image`\n",
    "* `kind load docker-image`\n",
    "* `kubectl apply`\n"
   ]
  },
  {
   "cell_type": "markdown",
   "id": "47fee9ef-9f34-4ce1-9dea-636c4d4086d2",
   "metadata": {},
   "source": [
    "\n",
    "### Question 5 : `9696`\n",
    "\n",
    "Now let's create a deployment config (e.g. `deployment.yaml`):\n",
    "\n",
    "```yaml\n",
    "apiVersion: apps/v1\n",
    "kind: Deployment\n",
    "metadata:\n",
    "  name: credit\n",
    "spec:\n",
    "  selector:\n",
    "    matchLabels:\n",
    "      app: credit\n",
    "  replicas: 1\n",
    "  template:\n",
    "    metadata:\n",
    "      labels:\n",
    "        app: credit\n",
    "    spec:\n",
    "      containers:\n",
    "      - name: credit\n",
    "        image: <Image>\n",
    "        resources:\n",
    "          requests:\n",
    "            memory: \"64Mi\"\n",
    "            cpu: \"100m\"            \n",
    "          limits:\n",
    "            memory: <Memory>\n",
    "            cpu: <CPU>\n",
    "        ports:\n",
    "        - containerPort: <Port>\n",
    "```\n",
    "\n",
    "Replace `<Image>`, `<Memory>`, `<CPU>`, `<Port>` with the correct values.\n",
    "\n",
    "What is the value for `<Port>`?\n",
    "\n",
    "Apply this deployment using the appropriate command and get a list of running Pods. \n",
    "You can see one running Pod.\n",
    "\n",
    "```bash\n",
    "kubectl apply -f deployment.yaml\n",
    "kubectl get pods\n",
    "\n",
    "> bank-667887d95c-jdhmr\n",
    "```"
   ]
  },
  {
   "cell_type": "markdown",
   "id": "f19de8ea-d506-457c-921c-49ec8953a1fa",
   "metadata": {},
   "source": [
    "### Question 6 : `<???> = bank`\n",
    "\n",
    "Let's create a service for this deployment (`service.yaml`):\n",
    "\n",
    "```yaml\n",
    "apiVersion: v1\n",
    "kind: Service\n",
    "metadata:\n",
    "  name: <Service name>\n",
    "spec:\n",
    "  type: LoadBalancer\n",
    "  selector:\n",
    "    app: <???>\n",
    "  ports:\n",
    "  - port: 80\n",
    "    targetPort: <PORT>\n",
    "```\n",
    "\n",
    "Fill it in. What do we need to write instead of `<???>`?\n",
    "\n",
    "Apply this config file.\n",
    "\n",
    "```bash\n",
    "kubectl apply -f service.yaml\n",
    "```"
   ]
  },
  {
   "cell_type": "markdown",
   "metadata": {},
   "source": [
    "## Testing the service\n",
    "\n",
    "We can test our service locally by forwarding the port 9696 on our computer \n",
    "to the port 80 on the service:\n",
    "\n",
    "```bash\n",
    "kubectl port-forward service/<Service name> 9696:80\n",
    "```\n",
    "\n",
    "Run `q6_test.py` (from the homework 5) once again to verify that everything is working. \n",
    "You should get the same result as in Question 1.\n",
    "\n",
    "```bash\n",
    "kubectl port-forward service/credit-service 9696:80\n",
    "```"
   ]
  },
  {
   "cell_type": "code",
   "execution_count": 17,
   "metadata": {},
   "outputs": [
    {
     "name": "stdout",
     "output_type": "stream",
     "text": [
      "{'approval_probability': 0.726936946355423, 'loan approved': True}\n"
     ]
    }
   ],
   "source": [
    "!python qn6_test.py"
   ]
  }
 ],
 "metadata": {
  "kernelspec": {
   "display_name": "saturn (Python 3)",
   "language": "python",
   "name": "python3"
  },
  "language_info": {
   "codemirror_mode": {
    "name": "ipython",
    "version": 3
   },
   "file_extension": ".py",
   "mimetype": "text/x-python",
   "name": "python",
   "nbconvert_exporter": "python",
   "pygments_lexer": "ipython3",
   "version": "3.10.13"
  }
 },
 "nbformat": 4,
 "nbformat_minor": 5
}
