{
  "cells": [
    {
      "cell_type": "markdown",
      "metadata": {
        "id": "qv3IZBiYPpPn"
      },
      "source": [
        "# Getting started with KerasTuner\n",
        "\n",
        "**Authors:** Luca Invernizzi, James Long, Francois Chollet, Tom O'Malley, Haifeng Jin<br>\n",
        "**Date created:** 2019/05/31<br>\n",
        "**Last modified:** 2021/10/27<br>\n",
        "**Description:** The basics of using KerasTuner to tune model hyperparameters."
      ]
    },
    {
      "cell_type": "code",
      "execution_count": 1,
      "metadata": {
        "colab": {
          "base_uri": "https://localhost:8080/"
        },
        "id": "OKodl5lyPpPq",
        "outputId": "07cd7586-1a40-4eb9-b600-c82392135d95"
      },
      "outputs": [
        {
          "output_type": "stream",
          "name": "stdout",
          "text": [
            "\u001b[?25l     \u001b[90m━━━━━━━━━━━━━━━━━━━━━━━━━━━━━━━━━━━━━━━━\u001b[0m \u001b[32m0.0/128.9 kB\u001b[0m \u001b[31m?\u001b[0m eta \u001b[36m-:--:--\u001b[0m\r\u001b[2K     \u001b[91m━━━━━━━━━━━━━━━━━━━━━━━━━━━━━━━━━━━━━━\u001b[0m\u001b[90m╺\u001b[0m\u001b[90m━\u001b[0m \u001b[32m122.9/128.9 kB\u001b[0m \u001b[31m4.0 MB/s\u001b[0m eta \u001b[36m0:00:01\u001b[0m\r\u001b[2K     \u001b[90m━━━━━━━━━━━━━━━━━━━━━━━━━━━━━━━━━━━━━━━━\u001b[0m \u001b[32m128.9/128.9 kB\u001b[0m \u001b[31m3.4 MB/s\u001b[0m eta \u001b[36m0:00:00\u001b[0m\n",
            "\u001b[?25h"
          ]
        }
      ],
      "source": [
        "!pip install keras-tuner -q"
      ]
    },
    {
      "cell_type": "markdown",
      "metadata": {
        "id": "Iu1Trip6PpPr"
      },
      "source": [
        "## Introduction\n",
        "\n",
        "KerasTuner is a general-purpose hyperparameter tuning library. It has strong\n",
        "integration with Keras workflows, but it isn't limited to them: you could use\n",
        "it to tune scikit-learn models, or anything else. In this tutorial, you will\n",
        "see how to tune model architecture, training process, and data preprocessing\n",
        "steps with KerasTuner. Let's start from a simple example.\n",
        "\n",
        "## Tune the model architecture\n",
        "\n",
        "The first thing we need to do is writing a function, which returns a compiled\n",
        "Keras model. It takes an argument `hp` for defining the hyperparameters while\n",
        "building the model.\n",
        "\n",
        "### Define the search space\n",
        "\n",
        "In the following code example, we define a Keras model with two `Dense` layers.\n",
        "We want to tune the number of units in the first `Dense` layer. We just define\n",
        "an integer hyperparameter with `hp.Int('units', min_value=32, max_value=512, step=32)`,\n",
        "whose range is from 32 to 512 inclusive. When sampling from it, the minimum\n",
        "step for walking through the interval is 32."
      ]
    },
    {
      "cell_type": "code",
      "execution_count": 2,
      "metadata": {
        "id": "-9UmG9DDPpPs"
      },
      "outputs": [],
      "source": [
        "from tensorflow import keras\n",
        "from tensorflow.keras import layers\n",
        "\n",
        "\n",
        "def build_model(hp):\n",
        "    model = keras.Sequential()\n",
        "    model.add(layers.Flatten())\n",
        "    model.add(\n",
        "        layers.Dense(\n",
        "            # Define the hyperparameter.\n",
        "            units=hp.Int(\"units\", min_value=32, max_value=512, step=32),\n",
        "            activation=\"relu\",\n",
        "        )\n",
        "    )\n",
        "    model.add(layers.Dense(10, activation=\"softmax\"))\n",
        "    model.compile(\n",
        "        optimizer=\"adam\", loss=\"categorical_crossentropy\", metrics=[\"accuracy\"],\n",
        "    )\n",
        "    return model\n"
      ]
    },
    {
      "cell_type": "markdown",
      "metadata": {
        "id": "5nhOvhfwPpPs"
      },
      "source": [
        "You can quickly test if the model builds successfully."
      ]
    },
    {
      "cell_type": "code",
      "execution_count": 3,
      "metadata": {
        "colab": {
          "base_uri": "https://localhost:8080/"
        },
        "id": "Moz955ciPpPs",
        "outputId": "47cc92b4-09cf-4b53-e480-e7364afade6c"
      },
      "outputs": [
        {
          "output_type": "execute_result",
          "data": {
            "text/plain": [
              "<keras.src.engine.sequential.Sequential at 0x786ced6e9390>"
            ]
          },
          "metadata": {},
          "execution_count": 3
        }
      ],
      "source": [
        "import keras_tuner\n",
        "\n",
        "build_model(keras_tuner.HyperParameters())"
      ]
    },
    {
      "cell_type": "markdown",
      "metadata": {
        "id": "lu3jwhC9PpPt"
      },
      "source": [
        "There are many other types of hyperparameters as well. We can define multiple\n",
        "hyperparameters in the function. In the following code, we tune whether to\n",
        "use a `Dropout` layer with `hp.Boolean()`, tune which activation function to\n",
        "use with `hp.Choice()`, tune the learning rate of the optimizer with\n",
        "`hp.Float()`."
      ]
    },
    {
      "cell_type": "code",
      "execution_count": 4,
      "metadata": {
        "colab": {
          "base_uri": "https://localhost:8080/"
        },
        "id": "elGVX8ugPpPt",
        "outputId": "f3024611-e49a-46b4-b782-5ffe412c1fc2"
      },
      "outputs": [
        {
          "output_type": "execute_result",
          "data": {
            "text/plain": [
              "<keras.src.engine.sequential.Sequential at 0x786c600137f0>"
            ]
          },
          "metadata": {},
          "execution_count": 4
        }
      ],
      "source": [
        "\n",
        "def build_model(hp):\n",
        "    model = keras.Sequential()\n",
        "    model.add(layers.Flatten())\n",
        "    model.add(\n",
        "        layers.Dense(\n",
        "            # Tune number of units.\n",
        "            units=hp.Int(\"units\", min_value=32, max_value=512, step=32),\n",
        "            # Tune the activation function to use.\n",
        "            activation=hp.Choice(\"activation\", [\"relu\", \"tanh\"]),\n",
        "        )\n",
        "    )\n",
        "    # Tune whether to use dropout.\n",
        "    if hp.Boolean(\"dropout\"):\n",
        "        model.add(layers.Dropout(rate=0.25))\n",
        "    model.add(layers.Dense(10, activation=\"softmax\"))\n",
        "    # Define the optimizer learning rate as a hyperparameter.\n",
        "    learning_rate = hp.Float(\"lr\", min_value=1e-4, max_value=1e-2, sampling=\"log\")\n",
        "    model.compile(\n",
        "        optimizer=keras.optimizers.Adam(learning_rate=learning_rate),\n",
        "        loss=\"categorical_crossentropy\",\n",
        "        metrics=[\"accuracy\"],\n",
        "    )\n",
        "    return model\n",
        "\n",
        "\n",
        "build_model(keras_tuner.HyperParameters())"
      ]
    },
    {
      "cell_type": "markdown",
      "metadata": {
        "id": "_BPKu3ySPpPu"
      },
      "source": [
        "As shown below, the hyperparameters are actual values. In fact, they are just\n",
        "functions returning actual values. For example, `hp.Int()` returns an `int`\n",
        "value. Therefore, you can put them into variables, for loops, or if\n",
        "conditions."
      ]
    },
    {
      "cell_type": "code",
      "execution_count": 5,
      "metadata": {
        "colab": {
          "base_uri": "https://localhost:8080/"
        },
        "id": "KPOK_mTvPpPu",
        "outputId": "ba3942ab-1586-49e4-ba64-3969c0b61dfd"
      },
      "outputs": [
        {
          "output_type": "stream",
          "name": "stdout",
          "text": [
            "32\n"
          ]
        }
      ],
      "source": [
        "hp = keras_tuner.HyperParameters()\n",
        "print(hp.Int(\"units\", min_value=32, max_value=512, step=32))"
      ]
    },
    {
      "cell_type": "markdown",
      "metadata": {
        "id": "Jc0ZkKRBPpPu"
      },
      "source": [
        "You can also define the hyperparameters in advance and keep your Keras code in\n",
        "a separate function."
      ]
    },
    {
      "cell_type": "code",
      "execution_count": 6,
      "metadata": {
        "colab": {
          "base_uri": "https://localhost:8080/"
        },
        "id": "M5w3XD73PpPv",
        "outputId": "f38ed3a8-85c3-4460-bcff-6d35039c77ed"
      },
      "outputs": [
        {
          "output_type": "execute_result",
          "data": {
            "text/plain": [
              "<keras.src.engine.sequential.Sequential at 0x786c600131f0>"
            ]
          },
          "metadata": {},
          "execution_count": 6
        }
      ],
      "source": [
        "\n",
        "def call_existing_code(units, activation, dropout, lr):\n",
        "    model = keras.Sequential()\n",
        "    model.add(layers.Flatten())\n",
        "    model.add(layers.Dense(units=units, activation=activation))\n",
        "    if dropout:\n",
        "        model.add(layers.Dropout(rate=0.25))\n",
        "    model.add(layers.Dense(10, activation=\"softmax\"))\n",
        "    model.compile(\n",
        "        optimizer=keras.optimizers.Adam(learning_rate=lr),\n",
        "        loss=\"categorical_crossentropy\",\n",
        "        metrics=[\"accuracy\"],\n",
        "    )\n",
        "    return model\n",
        "\n",
        "\n",
        "def build_model(hp):\n",
        "    units = hp.Int(\"units\", min_value=32, max_value=512, step=32)\n",
        "    activation = hp.Choice(\"activation\", [\"relu\", \"tanh\"])\n",
        "    dropout = hp.Boolean(\"dropout\")\n",
        "    lr = hp.Float(\"lr\", min_value=1e-4, max_value=1e-2, sampling=\"log\")\n",
        "    # call existing model-building code with the hyperparameter values.\n",
        "    model = call_existing_code(\n",
        "        units=units, activation=activation, dropout=dropout, lr=lr\n",
        "    )\n",
        "    return model\n",
        "\n",
        "\n",
        "build_model(keras_tuner.HyperParameters())"
      ]
    },
    {
      "cell_type": "markdown",
      "metadata": {
        "id": "6uvj6RB_PpPv"
      },
      "source": [
        "Each of the hyperparameters is uniquely identified by its name (the first\n",
        "argument). To tune the number of units in different `Dense` layers separately\n",
        "as different hyperparameters, we give them different names as `f\"units_{i}\"`.\n",
        "\n",
        "Notably, this is also an example of creating conditional hyperparameters.\n",
        "There are many hyperparameters specifying the number of units in the `Dense`\n",
        "layers. The number of such hyperparameters is decided by the number of layers,\n",
        "which is also a hyperparameter. Therefore, the total number of hyperparameters\n",
        "used may be different from trial to trial. Some hyperparameter is only used\n",
        "when a certain condition is satisfied. For example, `units_3` is only used\n",
        "when `num_layers` is larger than 3. With KerasTuner, you can easily define\n",
        "such hyperparameters dynamically while creating the model."
      ]
    },
    {
      "cell_type": "code",
      "execution_count": 7,
      "metadata": {
        "colab": {
          "base_uri": "https://localhost:8080/"
        },
        "id": "qNJlIOemPpPv",
        "outputId": "92cf2819-8361-4d29-bfb1-e714f11900ae"
      },
      "outputs": [
        {
          "output_type": "execute_result",
          "data": {
            "text/plain": [
              "<keras.src.engine.sequential.Sequential at 0x786c60068ee0>"
            ]
          },
          "metadata": {},
          "execution_count": 7
        }
      ],
      "source": [
        "\n",
        "def build_model(hp):\n",
        "    model = keras.Sequential()\n",
        "    model.add(layers.Flatten())\n",
        "    # Tune the number of layers.\n",
        "    for i in range(hp.Int(\"num_layers\", 1, 3)):\n",
        "        model.add(\n",
        "            layers.Dense(\n",
        "                # Tune number of units separately.\n",
        "                units=hp.Int(f\"units_{i}\", min_value=32, max_value=512, step=32),\n",
        "                activation=hp.Choice(\"activation\", [\"relu\", \"tanh\"]),\n",
        "            )\n",
        "        )\n",
        "    if hp.Boolean(\"dropout\"):\n",
        "        model.add(layers.Dropout(rate=0.25))\n",
        "    model.add(layers.Dense(10, activation=\"softmax\"))\n",
        "    learning_rate = hp.Float(\"lr\", min_value=1e-4, max_value=1e-2, sampling=\"log\")\n",
        "    model.compile(\n",
        "        optimizer=keras.optimizers.Adam(learning_rate=learning_rate),\n",
        "        loss=\"categorical_crossentropy\",\n",
        "        metrics=[\"accuracy\"],\n",
        "    )\n",
        "    return model\n",
        "\n",
        "\n",
        "build_model(keras_tuner.HyperParameters())"
      ]
    },
    {
      "cell_type": "markdown",
      "metadata": {
        "id": "ZFFerHfxPpPv"
      },
      "source": [
        "### Start the search\n",
        "\n",
        "After defining the search space, we need to select a tuner class to run the\n",
        "search. You may choose from `RandomSearch`, `BayesianOptimization` and\n",
        "`Hyperband`, which correspond to different tuning algorithms. Here we use\n",
        "`RandomSearch` as an example.\n",
        "\n",
        "To initialize the tuner, we need to specify several arguments in the initializer.\n",
        "\n",
        "* `hypermodel`. The model-building function, which is `build_model` in our case.\n",
        "* `objective`. The name of the objective to optimize (whether to minimize or\n",
        "maximize is automatically inferred for built-in metrics). We will introduce how\n",
        "to use custom metrics later in this tutorial.\n",
        "* `max_trials`. The total number of trials to run during the search.\n",
        "* `executions_per_trial`. The number of models that should be built and fit for\n",
        "each trial. Different trials have different hyperparameter values. The\n",
        "executions within the same trial have the same hyperparameter values. The\n",
        "purpose of having multiple executions per trial is to reduce results variance\n",
        "and therefore be able to more accurately assess the performance of a model. If\n",
        "you want to get results faster, you could set `executions_per_trial=1` (single\n",
        "round of training for each model configuration).\n",
        "* `overwrite`. Control whether to overwrite the previous results in the same\n",
        "directory or resume the previous search instead. Here we set `overwrite=True`\n",
        "to start a new search and ignore any previous results.\n",
        "* `directory`. A path to a directory for storing the search results.\n",
        "* `project_name`. The name of the sub-directory in the `directory`."
      ]
    },
    {
      "cell_type": "code",
      "execution_count": 8,
      "metadata": {
        "id": "AsEvO-RBPpPv"
      },
      "outputs": [],
      "source": [
        "tuner = keras_tuner.RandomSearch(\n",
        "    hypermodel=build_model,\n",
        "    objective=\"val_accuracy\",\n",
        "    max_trials=3,\n",
        "    executions_per_trial=2,\n",
        "    overwrite=True,\n",
        "    directory=\"my_dir\",\n",
        "    project_name=\"helloworld\",\n",
        ")"
      ]
    },
    {
      "cell_type": "markdown",
      "metadata": {
        "id": "NPR0h-NEPpPv"
      },
      "source": [
        "You can print a summary of the search space:"
      ]
    },
    {
      "cell_type": "code",
      "execution_count": 9,
      "metadata": {
        "colab": {
          "base_uri": "https://localhost:8080/"
        },
        "id": "lHWf_tzWPpPw",
        "outputId": "06314a2d-d855-4d56-f3d2-b714b4a49d89"
      },
      "outputs": [
        {
          "output_type": "stream",
          "name": "stdout",
          "text": [
            "Search space summary\n",
            "Default search space size: 5\n",
            "num_layers (Int)\n",
            "{'default': None, 'conditions': [], 'min_value': 1, 'max_value': 3, 'step': 1, 'sampling': 'linear'}\n",
            "units_0 (Int)\n",
            "{'default': None, 'conditions': [], 'min_value': 32, 'max_value': 512, 'step': 32, 'sampling': 'linear'}\n",
            "activation (Choice)\n",
            "{'default': 'relu', 'conditions': [], 'values': ['relu', 'tanh'], 'ordered': False}\n",
            "dropout (Boolean)\n",
            "{'default': False, 'conditions': []}\n",
            "lr (Float)\n",
            "{'default': 0.0001, 'conditions': [], 'min_value': 0.0001, 'max_value': 0.01, 'step': None, 'sampling': 'log'}\n"
          ]
        }
      ],
      "source": [
        "tuner.search_space_summary()"
      ]
    },
    {
      "cell_type": "markdown",
      "metadata": {
        "id": "vTwVSXiCPpPw"
      },
      "source": [
        "Before starting the search, let's prepare the MNIST dataset."
      ]
    },
    {
      "cell_type": "code",
      "execution_count": 10,
      "metadata": {
        "colab": {
          "base_uri": "https://localhost:8080/"
        },
        "id": "URwaLfCEPpPw",
        "outputId": "e2f8c203-c282-49f1-ab00-9c77f5ffb625"
      },
      "outputs": [
        {
          "output_type": "stream",
          "name": "stdout",
          "text": [
            "Downloading data from https://storage.googleapis.com/tensorflow/tf-keras-datasets/mnist.npz\n",
            "11490434/11490434 [==============================] - 0s 0us/step\n"
          ]
        }
      ],
      "source": [
        "from tensorflow import keras\n",
        "import numpy as np\n",
        "\n",
        "(x, y), (x_test, y_test) = keras.datasets.mnist.load_data()\n",
        "\n",
        "x_train = x[:-10000]\n",
        "x_val = x[-10000:]\n",
        "y_train = y[:-10000]\n",
        "y_val = y[-10000:]\n",
        "\n",
        "x_train = np.expand_dims(x_train, -1).astype(\"float32\") / 255.0\n",
        "x_val = np.expand_dims(x_val, -1).astype(\"float32\") / 255.0\n",
        "x_test = np.expand_dims(x_test, -1).astype(\"float32\") / 255.0\n",
        "\n",
        "num_classes = 10\n",
        "y_train = keras.utils.to_categorical(y_train, num_classes)\n",
        "y_val = keras.utils.to_categorical(y_val, num_classes)\n",
        "y_test = keras.utils.to_categorical(y_test, num_classes)"
      ]
    },
    {
      "cell_type": "markdown",
      "metadata": {
        "id": "BPG1a2aaPpPw"
      },
      "source": [
        "Then, start the search for the best hyperparameter configuration.\n",
        "All the arguments passed to `search` is passed to `model.fit()` in each\n",
        "execution. Remember to pass `validation_data` to evaluate the model."
      ]
    },
    {
      "cell_type": "code",
      "execution_count": 11,
      "metadata": {
        "colab": {
          "base_uri": "https://localhost:8080/"
        },
        "id": "3YdPhmiQPpPw",
        "outputId": "a9b8252b-c699-4c72-9615-0fbd09721a1d"
      },
      "outputs": [
        {
          "output_type": "stream",
          "name": "stdout",
          "text": [
            "Trial 3 Complete [00h 00m 35s]\n",
            "val_accuracy: 0.973550021648407\n",
            "\n",
            "Best val_accuracy So Far: 0.973550021648407\n",
            "Total elapsed time: 00h 01m 57s\n"
          ]
        }
      ],
      "source": [
        "tuner.search(x_train, y_train, epochs=2, validation_data=(x_val, y_val))"
      ]
    },
    {
      "cell_type": "markdown",
      "metadata": {
        "id": "JktzArTNPpPx"
      },
      "source": [
        "During the `search`, the model-building function is called with different\n",
        "hyperparameter values in different trial. In each trial, the tuner would\n",
        "generate a new set of hyperparameter values to build the model. The model is\n",
        "then fit and evaluated. The metrics are recorded. The tuner progressively\n",
        "explores the space and finally finds a good set of hyperparameter values.\n",
        "\n",
        "### Query the results\n",
        "\n",
        "When search is over, you can retrieve the best model(s). The model is saved at\n",
        "its best performing epoch evaluated on the `validation_data`."
      ]
    },
    {
      "cell_type": "code",
      "execution_count": 12,
      "metadata": {
        "colab": {
          "base_uri": "https://localhost:8080/"
        },
        "id": "qSGQj1UzPpPx",
        "outputId": "7710e3fc-0f9f-4238-fee5-8835f2ab3cd6"
      },
      "outputs": [
        {
          "output_type": "stream",
          "name": "stdout",
          "text": [
            "Model: \"sequential\"\n",
            "_________________________________________________________________\n",
            " Layer (type)                Output Shape              Param #   \n",
            "=================================================================\n",
            " flatten (Flatten)           (None, 784)               0         \n",
            "                                                                 \n",
            " dense (Dense)               (None, 480)               376800    \n",
            "                                                                 \n",
            " dropout (Dropout)           (None, 480)               0         \n",
            "                                                                 \n",
            " dense_1 (Dense)             (None, 10)                4810      \n",
            "                                                                 \n",
            "=================================================================\n",
            "Total params: 381610 (1.46 MB)\n",
            "Trainable params: 381610 (1.46 MB)\n",
            "Non-trainable params: 0 (0.00 Byte)\n",
            "_________________________________________________________________\n"
          ]
        }
      ],
      "source": [
        "# Get the top 2 models.\n",
        "models = tuner.get_best_models(num_models=2)\n",
        "best_model = models[0]\n",
        "# Build the model.\n",
        "# Needed for `Sequential` without specified `input_shape`.\n",
        "best_model.build(input_shape=(None, 28, 28))\n",
        "best_model.summary()"
      ]
    },
    {
      "cell_type": "markdown",
      "metadata": {
        "id": "cutH-wtCPpPx"
      },
      "source": [
        "You can also print a summary of the search results."
      ]
    },
    {
      "cell_type": "code",
      "execution_count": 13,
      "metadata": {
        "colab": {
          "base_uri": "https://localhost:8080/"
        },
        "id": "ffU-gqE5PpPx",
        "outputId": "dcb5a658-df68-4601-891f-293f8e2c7760"
      },
      "outputs": [
        {
          "output_type": "stream",
          "name": "stdout",
          "text": [
            "Results summary\n",
            "Results in my_dir/helloworld\n",
            "Showing 10 best trials\n",
            "Objective(name=\"val_accuracy\", direction=\"max\")\n",
            "\n",
            "Trial 2 summary\n",
            "Hyperparameters:\n",
            "num_layers: 1\n",
            "units_0: 480\n",
            "activation: relu\n",
            "dropout: True\n",
            "lr: 0.0006434892781748454\n",
            "units_1: 64\n",
            "units_2: 448\n",
            "Score: 0.973550021648407\n",
            "\n",
            "Trial 1 summary\n",
            "Hyperparameters:\n",
            "num_layers: 3\n",
            "units_0: 384\n",
            "activation: relu\n",
            "dropout: False\n",
            "lr: 0.0012513458296776205\n",
            "units_1: 32\n",
            "units_2: 32\n",
            "Score: 0.9710499942302704\n",
            "\n",
            "Trial 0 summary\n",
            "Hyperparameters:\n",
            "num_layers: 1\n",
            "units_0: 288\n",
            "activation: tanh\n",
            "dropout: False\n",
            "lr: 0.0029860644714577917\n",
            "Score: 0.9690999984741211\n"
          ]
        }
      ],
      "source": [
        "tuner.results_summary()"
      ]
    },
    {
      "cell_type": "markdown",
      "metadata": {
        "id": "pxFWbfOzPpPx"
      },
      "source": [
        "You will find detailed logs, checkpoints, etc, in the folder\n",
        "`my_dir/helloworld`, i.e. `directory/project_name`.\n",
        "\n",
        "You can also visualize the tuning results using TensorBoard and HParams plugin.\n",
        "For more information, please following\n",
        "[this link](https://keras.io/guides/keras_tuner/visualize_tuning/).\n",
        "\n",
        "### Retrain the model\n",
        "\n",
        "If you want to train the model with the entire dataset, you may retrieve the\n",
        "best hyperparameters and retrain the model by yourself."
      ]
    },
    {
      "cell_type": "code",
      "execution_count": 14,
      "metadata": {
        "colab": {
          "base_uri": "https://localhost:8080/"
        },
        "id": "zGaslRpsPpPx",
        "outputId": "2c6871d2-1f14-43a0-bd60-e0b169192ea9"
      },
      "outputs": [
        {
          "output_type": "stream",
          "name": "stdout",
          "text": [
            "1875/1875 [==============================] - 7s 3ms/step - loss: 0.2530 - accuracy: 0.9271\n"
          ]
        },
        {
          "output_type": "execute_result",
          "data": {
            "text/plain": [
              "<keras.src.callbacks.History at 0x786c4d302440>"
            ]
          },
          "metadata": {},
          "execution_count": 14
        }
      ],
      "source": [
        "# Get the top 2 hyperparameters.\n",
        "best_hps = tuner.get_best_hyperparameters(5)\n",
        "# Build the model with the best hp.\n",
        "model = build_model(best_hps[0])\n",
        "# Fit with the entire dataset.\n",
        "x_all = np.concatenate((x_train, x_val))\n",
        "y_all = np.concatenate((y_train, y_val))\n",
        "model.fit(x=x_all, y=y_all, epochs=1)"
      ]
    },
    {
      "cell_type": "markdown",
      "metadata": {
        "id": "tUGGRL_LPpPx"
      },
      "source": [
        "## Tune model training\n",
        "\n",
        "To tune the model building process, we need to subclass the `HyperModel` class,\n",
        "which also makes it easy to share and reuse hypermodels.\n",
        "\n",
        "We need to override `HyperModel.build()` and `HyperModel.fit()` to tune the\n",
        "model building and training process respectively. A `HyperModel.build()`\n",
        "method is the same as the model-building function, which creates a Keras model\n",
        "using the hyperparameters and returns it.\n",
        "\n",
        "In `HyperModel.fit()`, you can access the model returned by\n",
        "`HyperModel.build()`,`hp` and all the arguments passed to `search()`. You need\n",
        "to train the model and return the training history.\n",
        "\n",
        "In the following code, we will tune the `shuffle` argument in `model.fit()`.\n",
        "\n",
        "It is generally not needed to tune the number of epochs because a built-in\n",
        "callback is passed to `model.fit()` to save the model at its best epoch\n",
        "evaluated by the `validation_data`.\n",
        "\n",
        "> **Note**: The `**kwargs` should always be passed to `model.fit()` because it\n",
        "contains the callbacks for model saving and tensorboard plugins."
      ]
    },
    {
      "cell_type": "code",
      "execution_count": 15,
      "metadata": {
        "id": "jQi5AWwZPpPx"
      },
      "outputs": [],
      "source": [
        "\n",
        "class MyHyperModel(keras_tuner.HyperModel):\n",
        "    def build(self, hp):\n",
        "        model = keras.Sequential()\n",
        "        model.add(layers.Flatten())\n",
        "        model.add(\n",
        "            layers.Dense(\n",
        "                units=hp.Int(\"units\", min_value=32, max_value=512, step=32),\n",
        "                activation=\"relu\",\n",
        "            )\n",
        "        )\n",
        "        model.add(layers.Dense(10, activation=\"softmax\"))\n",
        "        model.compile(\n",
        "            optimizer=\"adam\", loss=\"categorical_crossentropy\", metrics=[\"accuracy\"],\n",
        "        )\n",
        "        return model\n",
        "\n",
        "    def fit(self, hp, model, *args, **kwargs):\n",
        "        return model.fit(\n",
        "            *args,\n",
        "            # Tune whether to shuffle the data in each epoch.\n",
        "            shuffle=hp.Boolean(\"shuffle\"),\n",
        "            **kwargs,\n",
        "        )\n"
      ]
    },
    {
      "cell_type": "markdown",
      "metadata": {
        "id": "8H0DrR3XPpPy"
      },
      "source": [
        "Again, we can do a quick check to see if the code works correctly."
      ]
    },
    {
      "cell_type": "code",
      "execution_count": 16,
      "metadata": {
        "colab": {
          "base_uri": "https://localhost:8080/"
        },
        "id": "8jHeVmn1PpPy",
        "outputId": "503952e0-cf07-45ce-c165-f6d4e21af532"
      },
      "outputs": [
        {
          "output_type": "stream",
          "name": "stdout",
          "text": [
            "4/4 [==============================] - 1s 5ms/step - loss: 12.7939 - accuracy: 0.1200\n"
          ]
        },
        {
          "output_type": "execute_result",
          "data": {
            "text/plain": [
              "<keras.src.callbacks.History at 0x786c4c28a290>"
            ]
          },
          "metadata": {},
          "execution_count": 16
        }
      ],
      "source": [
        "hp = keras_tuner.HyperParameters()\n",
        "hypermodel = MyHyperModel()\n",
        "model = hypermodel.build(hp)\n",
        "hypermodel.fit(hp, model, np.random.rand(100, 28, 28), np.random.rand(100, 10))"
      ]
    },
    {
      "cell_type": "markdown",
      "metadata": {
        "id": "ckIpogHsPpPy"
      },
      "source": [
        "## Tune data preprocessing\n",
        "\n",
        "To tune data preprocessing, we just add an additional step in\n",
        "`HyperModel.fit()`, where we can access the dataset from the arguments. In the\n",
        "following code, we tune whether to normalize the data before training the\n",
        "model. This time we explicitly put `x` and `y` in the function signature\n",
        "because we need to use them."
      ]
    },
    {
      "cell_type": "code",
      "execution_count": 17,
      "metadata": {
        "colab": {
          "base_uri": "https://localhost:8080/"
        },
        "id": "RXG84QhaPpPy",
        "outputId": "c1bcbb44-51c6-47ae-d6ba-c2f56af4b535"
      },
      "outputs": [
        {
          "output_type": "stream",
          "name": "stdout",
          "text": [
            "4/4 [==============================] - 1s 5ms/step - loss: 12.2320 - accuracy: 0.1100\n"
          ]
        },
        {
          "output_type": "execute_result",
          "data": {
            "text/plain": [
              "<keras.src.callbacks.History at 0x786c4c175570>"
            ]
          },
          "metadata": {},
          "execution_count": 17
        }
      ],
      "source": [
        "\n",
        "class MyHyperModel(keras_tuner.HyperModel):\n",
        "    def build(self, hp):\n",
        "        model = keras.Sequential()\n",
        "        model.add(layers.Flatten())\n",
        "        model.add(\n",
        "            layers.Dense(\n",
        "                units=hp.Int(\"units\", min_value=32, max_value=512, step=32),\n",
        "                activation=\"relu\",\n",
        "            )\n",
        "        )\n",
        "        model.add(layers.Dense(10, activation=\"softmax\"))\n",
        "        model.compile(\n",
        "            optimizer=\"adam\", loss=\"categorical_crossentropy\", metrics=[\"accuracy\"],\n",
        "        )\n",
        "        return model\n",
        "\n",
        "    def fit(self, hp, model, x, y, **kwargs):\n",
        "        if hp.Boolean(\"normalize\"):\n",
        "            x = layers.Normalization()(x)\n",
        "        return model.fit(\n",
        "            x,\n",
        "            y,\n",
        "            # Tune whether to shuffle the data in each epoch.\n",
        "            shuffle=hp.Boolean(\"shuffle\"),\n",
        "            **kwargs,\n",
        "        )\n",
        "\n",
        "\n",
        "hp = keras_tuner.HyperParameters()\n",
        "hypermodel = MyHyperModel()\n",
        "model = hypermodel.build(hp)\n",
        "hypermodel.fit(hp, model, np.random.rand(100, 28, 28), np.random.rand(100, 10))"
      ]
    },
    {
      "cell_type": "markdown",
      "metadata": {
        "id": "_lhS0fOOPpPy"
      },
      "source": [
        "If a hyperparameter is used both in `build()` and `fit()`, you can define it in\n",
        "`build()` and use `hp.get(hp_name)` to retrieve it in `fit()`. We use the\n",
        "image size as an example. It is both used as the input shape in `build()`, and\n",
        "used by data prerprocessing step to crop the images in `fit()`."
      ]
    },
    {
      "cell_type": "code",
      "execution_count": 18,
      "metadata": {
        "colab": {
          "base_uri": "https://localhost:8080/"
        },
        "id": "fVh2FjhMPpPy",
        "outputId": "cb869923-f792-463c-aad8-7e99861159ca"
      },
      "outputs": [
        {
          "output_type": "stream",
          "name": "stdout",
          "text": [
            "Trial 3 Complete [00h 00m 14s]\n",
            "val_accuracy: 0.9761999845504761\n",
            "\n",
            "Best val_accuracy So Far: 0.9761999845504761\n",
            "Total elapsed time: 00h 00m 41s\n"
          ]
        }
      ],
      "source": [
        "\n",
        "class MyHyperModel(keras_tuner.HyperModel):\n",
        "    def build(self, hp):\n",
        "        image_size = hp.Int(\"image_size\", 10, 28)\n",
        "        inputs = keras.Input(shape=(image_size, image_size))\n",
        "        outputs = layers.Flatten()(inputs)\n",
        "        outputs = layers.Dense(\n",
        "            units=hp.Int(\"units\", min_value=32, max_value=512, step=32),\n",
        "            activation=\"relu\",\n",
        "        )(outputs)\n",
        "        outputs = layers.Dense(10, activation=\"softmax\")(outputs)\n",
        "        model = keras.Model(inputs, outputs)\n",
        "        model.compile(\n",
        "            optimizer=\"adam\", loss=\"categorical_crossentropy\", metrics=[\"accuracy\"],\n",
        "        )\n",
        "        return model\n",
        "\n",
        "    def fit(self, hp, model, x, y, validation_data=None, **kwargs):\n",
        "        if hp.Boolean(\"normalize\"):\n",
        "            x = layers.Normalization()(x)\n",
        "        image_size = hp.get(\"image_size\")\n",
        "        cropped_x = x[:, :image_size, :image_size, :]\n",
        "        if validation_data:\n",
        "            x_val, y_val = validation_data\n",
        "            cropped_x_val = x_val[:, :image_size, :image_size, :]\n",
        "            validation_data = (cropped_x_val, y_val)\n",
        "        return model.fit(\n",
        "            cropped_x,\n",
        "            y,\n",
        "            # Tune whether to shuffle the data in each epoch.\n",
        "            shuffle=hp.Boolean(\"shuffle\"),\n",
        "            validation_data=validation_data,\n",
        "            **kwargs,\n",
        "        )\n",
        "\n",
        "\n",
        "tuner = keras_tuner.RandomSearch(\n",
        "    MyHyperModel(),\n",
        "    objective=\"val_accuracy\",\n",
        "    max_trials=3,\n",
        "    overwrite=True,\n",
        "    directory=\"my_dir\",\n",
        "    project_name=\"tune_hypermodel\",\n",
        ")\n",
        "\n",
        "tuner.search(x_train, y_train, epochs=2, validation_data=(x_val, y_val))"
      ]
    },
    {
      "cell_type": "markdown",
      "metadata": {
        "id": "t216e0SGPpPy"
      },
      "source": [
        "### Retrain the model\n",
        "\n",
        "Using `HyperModel` also allows you to retrain the best model by yourself."
      ]
    },
    {
      "cell_type": "code",
      "execution_count": 19,
      "metadata": {
        "colab": {
          "base_uri": "https://localhost:8080/"
        },
        "id": "myTL78AxPpPy",
        "outputId": "8e1a2e6e-509b-43ed-d9d3-cea1b2d3487a"
      },
      "outputs": [
        {
          "output_type": "stream",
          "name": "stdout",
          "text": [
            "1875/1875 [==============================] - 6s 3ms/step - loss: 0.2098 - accuracy: 0.9387\n"
          ]
        },
        {
          "output_type": "execute_result",
          "data": {
            "text/plain": [
              "<keras.src.callbacks.History at 0x786c1dbbdd80>"
            ]
          },
          "metadata": {},
          "execution_count": 19
        }
      ],
      "source": [
        "hypermodel = MyHyperModel()\n",
        "best_hp = tuner.get_best_hyperparameters()[0]\n",
        "model = hypermodel.build(best_hp)\n",
        "hypermodel.fit(best_hp, model, x_all, y_all, epochs=1)"
      ]
    },
    {
      "cell_type": "markdown",
      "metadata": {
        "id": "8KzAXtCLPpPy"
      },
      "source": [
        "## Specify the tuning objective\n",
        "\n",
        "In all previous examples, we all just used validation accuracy\n",
        "(`\"val_accuracy\"`) as the tuning objective to select the best model. Actually,\n",
        "you can use any metric as the objective. The most commonly used metric is\n",
        "`\"val_loss\"`, which is the validation loss.\n",
        "\n",
        "### Built-in metric as the objective\n",
        "\n",
        "There are many other built-in metrics in Keras you can use as the objective.\n",
        "Here is [a list of the built-in metrics](https://keras.io/api/metrics/).\n",
        "\n",
        "To use a built-in metric as the objective, you need to follow these steps:\n",
        "\n",
        "* Compile the model with the the built-in metric. For example, you want to use\n",
        "`MeanAbsoluteError()`. You need to compile the model with\n",
        "`metrics=[MeanAbsoluteError()]`. You may also use its name string instead:\n",
        "`metrics=[\"mean_absolute_error\"]`. The name string of the metric is always\n",
        "the snake case of the class name.\n",
        "\n",
        "* Identify the objective name string. The name string of the objective is\n",
        "always in the format of `f\"val_{metric_name_string}\"`. For example, the\n",
        "objective name string of mean squared error evaluated on the validation data\n",
        "should be `\"val_mean_absolute_error\"`.\n",
        "\n",
        "* Wrap it into `keras_tuner.Objective`. We usually need to wrap the objective\n",
        "into a `keras_tuner.Objective` object to specify the direction to optimize the\n",
        "objective. For example, we want to minimize the mean squared error, we can use\n",
        "`keras_tuner.Objective(\"val_mean_absolute_error\", \"min\")`. The direction should\n",
        "be either `\"min\"` or `\"max\"`.\n",
        "\n",
        "* Pass the wrapped objective to the tuner.\n",
        "\n",
        "You can see the following barebone code example."
      ]
    },
    {
      "cell_type": "code",
      "execution_count": 20,
      "metadata": {
        "colab": {
          "base_uri": "https://localhost:8080/"
        },
        "id": "qBdX95zYPpP2",
        "outputId": "79f3c58c-a5a6-41d3-e795-f7f02322b41b"
      },
      "outputs": [
        {
          "output_type": "stream",
          "name": "stdout",
          "text": [
            "Trial 3 Complete [00h 00m 01s]\n",
            "val_mean_absolute_error: 0.27956658601760864\n",
            "\n",
            "Best val_mean_absolute_error So Far: 0.27956658601760864\n",
            "Total elapsed time: 00h 00m 06s\n",
            "Results summary\n",
            "Results in my_dir/built_in_metrics\n",
            "Showing 10 best trials\n",
            "Objective(name=\"val_mean_absolute_error\", direction=\"min\")\n",
            "\n",
            "Trial 2 summary\n",
            "Hyperparameters:\n",
            "units: 96\n",
            "Score: 0.27956658601760864\n",
            "\n",
            "Trial 1 summary\n",
            "Hyperparameters:\n",
            "units: 32\n",
            "Score: 0.3081657290458679\n",
            "\n",
            "Trial 0 summary\n",
            "Hyperparameters:\n",
            "units: 64\n",
            "Score: 0.45764341950416565\n"
          ]
        }
      ],
      "source": [
        "\n",
        "def build_regressor(hp):\n",
        "    model = keras.Sequential(\n",
        "        [\n",
        "            layers.Dense(units=hp.Int(\"units\", 32, 128, 32), activation=\"relu\"),\n",
        "            layers.Dense(units=1),\n",
        "        ]\n",
        "    )\n",
        "    model.compile(\n",
        "        optimizer=\"adam\",\n",
        "        loss=\"mean_squared_error\",\n",
        "        # Objective is one of the metrics.\n",
        "        metrics=[keras.metrics.MeanAbsoluteError()],\n",
        "    )\n",
        "    return model\n",
        "\n",
        "\n",
        "tuner = keras_tuner.RandomSearch(\n",
        "    hypermodel=build_regressor,\n",
        "    # The objective name and direction.\n",
        "    # Name is the f\"val_{snake_case_metric_class_name}\".\n",
        "    objective=keras_tuner.Objective(\"val_mean_absolute_error\", direction=\"min\"),\n",
        "    max_trials=3,\n",
        "    overwrite=True,\n",
        "    directory=\"my_dir\",\n",
        "    project_name=\"built_in_metrics\",\n",
        ")\n",
        "\n",
        "tuner.search(\n",
        "    x=np.random.rand(100, 10),\n",
        "    y=np.random.rand(100, 1),\n",
        "    validation_data=(np.random.rand(20, 10), np.random.rand(20, 1)),\n",
        ")\n",
        "\n",
        "tuner.results_summary()"
      ]
    },
    {
      "cell_type": "markdown",
      "metadata": {
        "id": "BDaALmn0PpP2"
      },
      "source": [
        "### Custom metric as the objective\n",
        "\n",
        "You may implement your own metric and use it as the hyperparameter search\n",
        "objective. Here, we use mean squared error (MSE) as an example. First, we\n",
        "implement the MSE metric by subclassing `keras.metrics.Metric`. Remember to\n",
        "give a name to your metric using the `name` argument of `super().__init__()`,\n",
        "which will be used later. Note: MSE is actully a build-in metric, which can be\n",
        "imported with `keras.metrics.MeanSquaredError`. This is just an example to show\n",
        "how to use a custom metric as the hyperparameter search objective.\n",
        "\n",
        "For more information about implementing custom metrics, please see [this\n",
        "tutorial](https://keras.io/api/metrics/#creating-custom-metrics). If you would\n",
        "like a metric with a different function signature than `update_state(y_true,\n",
        "y_pred, sample_weight)`, you can override the `train_step()` method of your\n",
        "model following [this\n",
        "tutorial](https://keras.io/guides/customizing_what_happens_in_fit/#going-lowerlevel)."
      ]
    },
    {
      "cell_type": "code",
      "execution_count": 21,
      "metadata": {
        "id": "Zmau0uyrPpP3"
      },
      "outputs": [],
      "source": [
        "import tensorflow as tf\n",
        "\n",
        "\n",
        "class CustomMetric(keras.metrics.Metric):\n",
        "    def __init__(self, **kwargs):\n",
        "        # Specify the name of the metric as \"custom_metric\".\n",
        "        super().__init__(name=\"custom_metric\", **kwargs)\n",
        "        self.sum = self.add_weight(name=\"sum\", initializer=\"zeros\")\n",
        "        self.count = self.add_weight(name=\"count\", dtype=tf.int32, initializer=\"zeros\")\n",
        "\n",
        "    def update_state(self, y_true, y_pred, sample_weight=None):\n",
        "        values = tf.math.squared_difference(y_pred, y_true)\n",
        "        count = tf.shape(y_true)[0]\n",
        "        if sample_weight is not None:\n",
        "            sample_weight = tf.cast(sample_weight, self.dtype)\n",
        "            values *= sample_weight\n",
        "            count *= sample_weight\n",
        "        self.sum.assign_add(tf.reduce_sum(values))\n",
        "        self.count.assign_add(count)\n",
        "\n",
        "    def result(self):\n",
        "        return self.sum / tf.cast(self.count, tf.float32)\n",
        "\n",
        "    def reset_states(self):\n",
        "        self.sum.assign(0)\n",
        "        self.count.assign(0)\n"
      ]
    },
    {
      "cell_type": "markdown",
      "metadata": {
        "id": "HDBem-uxPpP3"
      },
      "source": [
        "Run the search with the custom objective."
      ]
    },
    {
      "cell_type": "code",
      "execution_count": 22,
      "metadata": {
        "colab": {
          "base_uri": "https://localhost:8080/"
        },
        "id": "JrXKVFL1PpP4",
        "outputId": "def69a17-0aa7-4eee-cc32-9bfe3e196f6f"
      },
      "outputs": [
        {
          "output_type": "stream",
          "name": "stdout",
          "text": [
            "Trial 3 Complete [00h 00m 01s]\n",
            "val_custom_metric: 1.0642722845077515\n",
            "\n",
            "Best val_custom_metric So Far: 0.09452031552791595\n",
            "Total elapsed time: 00h 00m 04s\n",
            "Results summary\n",
            "Results in my_dir/custom_metrics\n",
            "Showing 10 best trials\n",
            "Objective(name=\"val_custom_metric\", direction=\"min\")\n",
            "\n",
            "Trial 1 summary\n",
            "Hyperparameters:\n",
            "units: 128\n",
            "Score: 0.09452031552791595\n",
            "\n",
            "Trial 0 summary\n",
            "Hyperparameters:\n",
            "units: 96\n",
            "Score: 0.12290000915527344\n",
            "\n",
            "Trial 2 summary\n",
            "Hyperparameters:\n",
            "units: 32\n",
            "Score: 1.0642722845077515\n"
          ]
        }
      ],
      "source": [
        "\n",
        "def build_regressor(hp):\n",
        "    model = keras.Sequential(\n",
        "        [\n",
        "            layers.Dense(units=hp.Int(\"units\", 32, 128, 32), activation=\"relu\"),\n",
        "            layers.Dense(units=1),\n",
        "        ]\n",
        "    )\n",
        "    model.compile(\n",
        "        optimizer=\"adam\",\n",
        "        loss=\"mean_squared_error\",\n",
        "        # Put custom metric into the metrics.\n",
        "        metrics=[CustomMetric()],\n",
        "    )\n",
        "    return model\n",
        "\n",
        "\n",
        "tuner = keras_tuner.RandomSearch(\n",
        "    hypermodel=build_regressor,\n",
        "    # Specify the name and direction of the objective.\n",
        "    objective=keras_tuner.Objective(\"val_custom_metric\", direction=\"min\"),\n",
        "    max_trials=3,\n",
        "    overwrite=True,\n",
        "    directory=\"my_dir\",\n",
        "    project_name=\"custom_metrics\",\n",
        ")\n",
        "\n",
        "tuner.search(\n",
        "    x=np.random.rand(100, 10),\n",
        "    y=np.random.rand(100, 1),\n",
        "    validation_data=(np.random.rand(20, 10), np.random.rand(20, 1)),\n",
        ")\n",
        "\n",
        "tuner.results_summary()"
      ]
    },
    {
      "cell_type": "markdown",
      "metadata": {
        "id": "wycXfdAiPpP4"
      },
      "source": [
        "If your custom objective is hard to put into a custom metric, you can also\n",
        "evaluate the model by yourself in `HyperModel.fit()` and return the objective\n",
        "value. The objective value would be minimized by default. In this case, you\n",
        "don't need to specify the `objective` when initializing the tuner. However, in\n",
        "this case, the metric value will not be tracked in the Keras logs by only\n",
        "KerasTuner logs. Therefore, these values would not be displayed by any\n",
        "TensorBoard view using the Keras metrics."
      ]
    },
    {
      "cell_type": "code",
      "execution_count": 23,
      "metadata": {
        "colab": {
          "base_uri": "https://localhost:8080/"
        },
        "id": "o9qduQ1pPpP4",
        "outputId": "23b36872-71d7-4351-b75a-3b088a08a3fc"
      },
      "outputs": [
        {
          "output_type": "stream",
          "name": "stdout",
          "text": [
            "Trial 3 Complete [00h 00m 01s]\n",
            "default_objective: 0.4141400183753178\n",
            "\n",
            "Best default_objective So Far: 0.4020487151946276\n",
            "Total elapsed time: 00h 00m 03s\n",
            "Results summary\n",
            "Results in my_dir/custom_eval\n",
            "Showing 10 best trials\n",
            "Objective(name=\"default_objective\", direction=\"min\")\n",
            "\n",
            "Trial 1 summary\n",
            "Hyperparameters:\n",
            "units: 96\n",
            "Score: 0.4020487151946276\n",
            "\n",
            "Trial 2 summary\n",
            "Hyperparameters:\n",
            "units: 128\n",
            "Score: 0.4141400183753178\n",
            "\n",
            "Trial 0 summary\n",
            "Hyperparameters:\n",
            "units: 64\n",
            "Score: 0.6391933203516662\n"
          ]
        }
      ],
      "source": [
        "\n",
        "class HyperRegressor(keras_tuner.HyperModel):\n",
        "    def build(self, hp):\n",
        "        model = keras.Sequential(\n",
        "            [\n",
        "                layers.Dense(units=hp.Int(\"units\", 32, 128, 32), activation=\"relu\"),\n",
        "                layers.Dense(units=1),\n",
        "            ]\n",
        "        )\n",
        "        model.compile(\n",
        "            optimizer=\"adam\", loss=\"mean_squared_error\",\n",
        "        )\n",
        "        return model\n",
        "\n",
        "    def fit(self, hp, model, x, y, validation_data, **kwargs):\n",
        "        model.fit(x, y, **kwargs)\n",
        "        x_val, y_val = validation_data\n",
        "        y_pred = model.predict(x_val)\n",
        "        # Return a single float to minimize.\n",
        "        return np.mean(np.abs(y_pred - y_val))\n",
        "\n",
        "\n",
        "tuner = keras_tuner.RandomSearch(\n",
        "    hypermodel=HyperRegressor(),\n",
        "    # No objective to specify.\n",
        "    # Objective is the return value of `HyperModel.fit()`.\n",
        "    max_trials=3,\n",
        "    overwrite=True,\n",
        "    directory=\"my_dir\",\n",
        "    project_name=\"custom_eval\",\n",
        ")\n",
        "tuner.search(\n",
        "    x=np.random.rand(100, 10),\n",
        "    y=np.random.rand(100, 1),\n",
        "    validation_data=(np.random.rand(20, 10), np.random.rand(20, 1)),\n",
        ")\n",
        "\n",
        "tuner.results_summary()"
      ]
    },
    {
      "cell_type": "markdown",
      "metadata": {
        "id": "4bNpNpTVPpP4"
      },
      "source": [
        "If you have multiple metrics to track in KerasTuner, but only use one of them\n",
        "as the objective, you can return a dictionary, whose keys are the metric names\n",
        "and the values are the metrics values, for example, return `{\"metric_a\": 1.0,\n",
        "\"metric_b\", 2.0}`. Use one of the keys as the objective name, for example,\n",
        "`keras_tuner.Objective(\"metric_a\", \"min\")`."
      ]
    },
    {
      "cell_type": "code",
      "execution_count": 24,
      "metadata": {
        "colab": {
          "base_uri": "https://localhost:8080/"
        },
        "id": "LPZchz7FPpP4",
        "outputId": "4c71ac86-8f49-4066-8889-6b203b37445b"
      },
      "outputs": [
        {
          "output_type": "stream",
          "name": "stdout",
          "text": [
            "Trial 3 Complete [00h 00m 02s]\n",
            "metric_a: -0.5560946145770749\n",
            "\n",
            "Best metric_a So Far: -0.3072717092817579\n",
            "Total elapsed time: 00h 00m 05s\n",
            "Results summary\n",
            "Results in my_dir/custom_eval_dict\n",
            "Showing 10 best trials\n",
            "Objective(name=\"metric_a\", direction=\"max\")\n",
            "\n",
            "Trial 1 summary\n",
            "Hyperparameters:\n",
            "units: 64\n",
            "Score: -0.3072717092817579\n",
            "\n",
            "Trial 2 summary\n",
            "Hyperparameters:\n",
            "units: 96\n",
            "Score: -0.5560946145770749\n",
            "\n",
            "Trial 0 summary\n",
            "Hyperparameters:\n",
            "units: 32\n",
            "Score: -0.7467981340721948\n"
          ]
        }
      ],
      "source": [
        "\n",
        "class HyperRegressor(keras_tuner.HyperModel):\n",
        "    def build(self, hp):\n",
        "        model = keras.Sequential(\n",
        "            [\n",
        "                layers.Dense(units=hp.Int(\"units\", 32, 128, 32), activation=\"relu\"),\n",
        "                layers.Dense(units=1),\n",
        "            ]\n",
        "        )\n",
        "        model.compile(\n",
        "            optimizer=\"adam\", loss=\"mean_squared_error\",\n",
        "        )\n",
        "        return model\n",
        "\n",
        "    def fit(self, hp, model, x, y, validation_data, **kwargs):\n",
        "        model.fit(x, y, **kwargs)\n",
        "        x_val, y_val = validation_data\n",
        "        y_pred = model.predict(x_val)\n",
        "        # Return a dictionary of metrics for KerasTuner to track.\n",
        "        return {\n",
        "            \"metric_a\": -np.mean(np.abs(y_pred - y_val)),\n",
        "            \"metric_b\": np.mean(np.square(y_pred - y_val)),\n",
        "        }\n",
        "\n",
        "\n",
        "tuner = keras_tuner.RandomSearch(\n",
        "    hypermodel=HyperRegressor(),\n",
        "    # Objective is one of the keys.\n",
        "    # Maximize the negative MAE, equivalent to minimize MAE.\n",
        "    objective=keras_tuner.Objective(\"metric_a\", \"max\"),\n",
        "    max_trials=3,\n",
        "    overwrite=True,\n",
        "    directory=\"my_dir\",\n",
        "    project_name=\"custom_eval_dict\",\n",
        ")\n",
        "tuner.search(\n",
        "    x=np.random.rand(100, 10),\n",
        "    y=np.random.rand(100, 1),\n",
        "    validation_data=(np.random.rand(20, 10), np.random.rand(20, 1)),\n",
        ")\n",
        "\n",
        "tuner.results_summary()"
      ]
    },
    {
      "cell_type": "markdown",
      "metadata": {
        "id": "Sg2IZTFmPpP4"
      },
      "source": [
        "## Tune end-to-end workflows\n",
        "\n",
        "In some cases, it is hard to align your code into build and fit functions. You\n",
        "can also keep your end-to-end workflow in one place by overriding\n",
        "`Tuner.run_trial()`, which gives you full control of a trial. You can see it\n",
        "as a black-box optimizer for anything.\n",
        "\n",
        "### Tune any function\n",
        "\n",
        "For example, you can find a value of `x`, which minimizes `f(x)=x*x+1`. In the\n",
        "following code, we just define `x` as a hyperparameter, and return `f(x)` as\n",
        "the objective value. The `hypermodel` and `objective` argument for initializing\n",
        "the tuner can be omitted."
      ]
    },
    {
      "cell_type": "code",
      "execution_count": 25,
      "metadata": {
        "colab": {
          "base_uri": "https://localhost:8080/"
        },
        "id": "tHttncWlPpP5",
        "outputId": "1406cdb8-6678-4237-bc17-543cd0d0aacb"
      },
      "outputs": [
        {
          "output_type": "stream",
          "name": "stdout",
          "text": [
            "Trial 20 Complete [00h 00m 00s]\n",
            "default_objective: 1.2220972463408981\n",
            "\n",
            "Best default_objective So Far: 1.0082038924514047\n",
            "Total elapsed time: 00h 00m 00s\n",
            "0.09057534129885902\n"
          ]
        }
      ],
      "source": [
        "\n",
        "class MyTuner(keras_tuner.RandomSearch):\n",
        "    def run_trial(self, trial, *args, **kwargs):\n",
        "        # Get the hp from trial.\n",
        "        hp = trial.hyperparameters\n",
        "        # Define \"x\" as a hyperparameter.\n",
        "        x = hp.Float(\"x\", min_value=-1.0, max_value=1.0)\n",
        "        # Return the objective value to minimize.\n",
        "        return x * x + 1\n",
        "\n",
        "\n",
        "tuner = MyTuner(\n",
        "    # No hypermodel or objective specified.\n",
        "    max_trials=20,\n",
        "    overwrite=True,\n",
        "    directory=\"my_dir\",\n",
        "    project_name=\"tune_anything\",\n",
        ")\n",
        "\n",
        "# No need to pass anything to search()\n",
        "# unless you use them in run_trial().\n",
        "tuner.search()\n",
        "print(tuner.get_best_hyperparameters()[0].get(\"x\"))"
      ]
    },
    {
      "cell_type": "markdown",
      "metadata": {
        "id": "o9jIxWSyPpP5"
      },
      "source": [
        "### Keep Keras code separate\n",
        "\n",
        "You can keep all your Keras code unchanged and use KerasTuner to tune it. It\n",
        "is useful if you cannot modify the Keras code for some reason.\n",
        "\n",
        "It also gives you more flexibility. You don't have to separate the model\n",
        "building and training code apart. However, this workflow would not help you\n",
        "save the model or connect with the TensorBoard plugins.\n",
        "\n",
        "To save the model, you can use `trial.trial_id`, which is a string to uniquely\n",
        "identify a trial, to construct different paths to save the models from\n",
        "different trials."
      ]
    },
    {
      "cell_type": "code",
      "execution_count": 26,
      "metadata": {
        "colab": {
          "base_uri": "https://localhost:8080/"
        },
        "id": "a7L4SUXcPpP5",
        "outputId": "692783e8-c28b-458a-eb09-84e435cc69da"
      },
      "outputs": [
        {
          "output_type": "stream",
          "name": "stdout",
          "text": [
            "Trial 3 Complete [00h 00m 01s]\n",
            "default_objective: 0.30473277918852326\n",
            "\n",
            "Best default_objective So Far: 0.30473277918852326\n",
            "Total elapsed time: 00h 00m 04s\n",
            "4/4 [==============================] - 1s 4ms/step - loss: 0.9177\n",
            "1/1 [==============================] - 0s 39ms/step\n"
          ]
        },
        {
          "output_type": "execute_result",
          "data": {
            "text/plain": [
              "0.7853160768891219"
            ]
          },
          "metadata": {},
          "execution_count": 26
        }
      ],
      "source": [
        "import os\n",
        "\n",
        "\n",
        "def keras_code(units, optimizer, saving_path):\n",
        "    # Build model\n",
        "    model = keras.Sequential(\n",
        "        [layers.Dense(units=units, activation=\"relu\"), layers.Dense(units=1),]\n",
        "    )\n",
        "    model.compile(\n",
        "        optimizer=optimizer, loss=\"mean_squared_error\",\n",
        "    )\n",
        "\n",
        "    # Prepare data\n",
        "    x_train = np.random.rand(100, 10)\n",
        "    y_train = np.random.rand(100, 1)\n",
        "    x_val = np.random.rand(20, 10)\n",
        "    y_val = np.random.rand(20, 1)\n",
        "\n",
        "    # Train & eval model\n",
        "    model.fit(x_train, y_train)\n",
        "\n",
        "    # Save model\n",
        "    model.save(saving_path)\n",
        "\n",
        "    # Return a single float as the objective value.\n",
        "    # You may also return a dictionary\n",
        "    # of {metric_name: metric_value}.\n",
        "    y_pred = model.predict(x_val)\n",
        "    return np.mean(np.abs(y_pred - y_val))\n",
        "\n",
        "\n",
        "class MyTuner(keras_tuner.RandomSearch):\n",
        "    def run_trial(self, trial, **kwargs):\n",
        "        hp = trial.hyperparameters\n",
        "        return keras_code(\n",
        "            units=hp.Int(\"units\", 32, 128, 32),\n",
        "            optimizer=hp.Choice(\"optimizer\", [\"adam\", \"adadelta\"]),\n",
        "            saving_path=os.path.join(\"/tmp\", trial.trial_id),\n",
        "        )\n",
        "\n",
        "\n",
        "tuner = MyTuner(\n",
        "    max_trials=3, overwrite=True, directory=\"my_dir\", project_name=\"keep_code_separate\",\n",
        ")\n",
        "tuner.search()\n",
        "# Retraining the model\n",
        "best_hp = tuner.get_best_hyperparameters()[0]\n",
        "keras_code(**best_hp.values, saving_path=\"/tmp/best_model\")"
      ]
    },
    {
      "cell_type": "markdown",
      "metadata": {
        "id": "WWUuwikUPpP5"
      },
      "source": [
        "## KerasTuner includes pre-made tunable applications: HyperResNet and HyperXception\n",
        "\n",
        "These are ready-to-use hypermodels for computer vision.\n",
        "\n",
        "They come pre-compiled with `loss=\"categorical_crossentropy\"` and\n",
        "`metrics=[\"accuracy\"]`."
      ]
    },
    {
      "cell_type": "code",
      "execution_count": 27,
      "metadata": {
        "colab": {
          "base_uri": "https://localhost:8080/"
        },
        "id": "QO5km0RSPpP5",
        "outputId": "fd1d901a-21bd-4eef-e0a0-121b4af2cbae"
      },
      "outputs": [
        {
          "output_type": "stream",
          "name": "stdout",
          "text": [
            "Trial 2 Complete [00h 01m 10s]\n",
            "val_accuracy: 0.10000000149011612\n",
            "\n",
            "Best val_accuracy So Far: 0.10000000149011612\n",
            "Total elapsed time: 00h 03m 29s\n"
          ]
        }
      ],
      "source": [
        "from keras_tuner.applications import HyperResNet\n",
        "\n",
        "hypermodel = HyperResNet(input_shape=(28, 28, 1), classes=10)\n",
        "\n",
        "tuner = keras_tuner.RandomSearch(\n",
        "    hypermodel,\n",
        "    objective=\"val_accuracy\",\n",
        "    max_trials=2,\n",
        "    overwrite=True,\n",
        "    directory=\"my_dir\",\n",
        "    project_name=\"built_in_hypermodel\",\n",
        ")\n",
        "\n",
        "tuner.search(\n",
        "    x_train[:100], y_train[:100], epochs=1, validation_data=(x_val[:100], y_val[:100])\n",
        ")"
      ]
    }
  ],
  "metadata": {
    "accelerator": "GPU",
    "colab": {
      "name": "getting_started",
      "provenance": [],
      "toc_visible": true
    },
    "kernelspec": {
      "display_name": "Python 3",
      "language": "python",
      "name": "python3"
    },
    "language_info": {
      "codemirror_mode": {
        "name": "ipython",
        "version": 3
      },
      "file_extension": ".py",
      "mimetype": "text/x-python",
      "name": "python",
      "nbconvert_exporter": "python",
      "pygments_lexer": "ipython3",
      "version": "3.7.0"
    }
  },
  "nbformat": 4,
  "nbformat_minor": 0
}